{
 "cells": [
  {
   "cell_type": "code",
   "execution_count": 1,
   "metadata": {},
   "outputs": [],
   "source": [
    "import pandas as pd\n",
    "import numpy as np\n",
    "from matplotlib import pyplot as plt\n",
    "from utils_v2 import *\n",
    "\n",
    "%matplotlib inline"
   ]
  },
  {
   "cell_type": "code",
   "execution_count": 2,
   "metadata": {},
   "outputs": [],
   "source": [
    "aq_df4 = pd.read_csv('./data/aiqQuality_201804.csv')\n",
    "grid_df4 = pd.read_csv('./data/gridWeather_201804.csv')\n",
    "ob_df4 = pd.read_csv('./data/observedWeather_201804.csv')"
   ]
  },
  {
   "cell_type": "code",
   "execution_count": 3,
   "metadata": {},
   "outputs": [
    {
     "data": {
      "text/plain": [
       "(463476, 12544)"
      ]
     },
     "execution_count": 3,
     "metadata": {},
     "output_type": "execute_result"
    }
   ],
   "source": [
    "len(grid_df4),len(ob_df4)"
   ]
  },
  {
   "cell_type": "code",
   "execution_count": 4,
   "metadata": {},
   "outputs": [
    {
     "data": {
      "text/html": [
       "<div>\n",
       "<style scoped>\n",
       "    .dataframe tbody tr th:only-of-type {\n",
       "        vertical-align: middle;\n",
       "    }\n",
       "\n",
       "    .dataframe tbody tr th {\n",
       "        vertical-align: top;\n",
       "    }\n",
       "\n",
       "    .dataframe thead th {\n",
       "        text-align: right;\n",
       "    }\n",
       "</style>\n",
       "<table border=\"1\" class=\"dataframe\">\n",
       "  <thead>\n",
       "    <tr style=\"text-align: right;\">\n",
       "      <th></th>\n",
       "      <th>id</th>\n",
       "      <th>station_id</th>\n",
       "      <th>time</th>\n",
       "      <th>weather</th>\n",
       "      <th>temperature</th>\n",
       "      <th>pressure</th>\n",
       "      <th>humidity</th>\n",
       "      <th>wind_speed</th>\n",
       "      <th>wind_direction</th>\n",
       "    </tr>\n",
       "  </thead>\n",
       "  <tbody>\n",
       "    <tr>\n",
       "      <th>0</th>\n",
       "      <td>2028533</td>\n",
       "      <td>shunyi_meo</td>\n",
       "      <td>2018-04-01 01:00:00</td>\n",
       "      <td>Hail</td>\n",
       "      <td>15.5</td>\n",
       "      <td>1009.2</td>\n",
       "      <td>51.0</td>\n",
       "      <td>0.5</td>\n",
       "      <td>82.0</td>\n",
       "    </tr>\n",
       "    <tr>\n",
       "      <th>1</th>\n",
       "      <td>2028534</td>\n",
       "      <td>hadian_meo</td>\n",
       "      <td>2018-04-01 01:00:00</td>\n",
       "      <td>Hail</td>\n",
       "      <td>15.7</td>\n",
       "      <td>1006.8</td>\n",
       "      <td>51.0</td>\n",
       "      <td>1.8</td>\n",
       "      <td>50.0</td>\n",
       "    </tr>\n",
       "    <tr>\n",
       "      <th>2</th>\n",
       "      <td>2028535</td>\n",
       "      <td>yanqing_meo</td>\n",
       "      <td>2018-04-01 01:00:00</td>\n",
       "      <td>Hail</td>\n",
       "      <td>12.6</td>\n",
       "      <td>955.6</td>\n",
       "      <td>33.0</td>\n",
       "      <td>0.8</td>\n",
       "      <td>34.0</td>\n",
       "    </tr>\n",
       "    <tr>\n",
       "      <th>3</th>\n",
       "      <td>2028536</td>\n",
       "      <td>miyun_meo</td>\n",
       "      <td>2018-04-01 01:00:00</td>\n",
       "      <td>Hail</td>\n",
       "      <td>14.8</td>\n",
       "      <td>1004.0</td>\n",
       "      <td>40.0</td>\n",
       "      <td>0.2</td>\n",
       "      <td>999017.0</td>\n",
       "    </tr>\n",
       "    <tr>\n",
       "      <th>4</th>\n",
       "      <td>2028537</td>\n",
       "      <td>huairou_meo</td>\n",
       "      <td>2018-04-01 01:00:00</td>\n",
       "      <td>Hail</td>\n",
       "      <td>15.3</td>\n",
       "      <td>1003.4</td>\n",
       "      <td>44.0</td>\n",
       "      <td>1.5</td>\n",
       "      <td>146.0</td>\n",
       "    </tr>\n",
       "  </tbody>\n",
       "</table>\n",
       "</div>"
      ],
      "text/plain": [
       "        id   station_id                 time weather  temperature  pressure  \\\n",
       "0  2028533   shunyi_meo  2018-04-01 01:00:00    Hail         15.5    1009.2   \n",
       "1  2028534   hadian_meo  2018-04-01 01:00:00    Hail         15.7    1006.8   \n",
       "2  2028535  yanqing_meo  2018-04-01 01:00:00    Hail         12.6     955.6   \n",
       "3  2028536    miyun_meo  2018-04-01 01:00:00    Hail         14.8    1004.0   \n",
       "4  2028537  huairou_meo  2018-04-01 01:00:00    Hail         15.3    1003.4   \n",
       "\n",
       "   humidity  wind_speed  wind_direction  \n",
       "0      51.0         0.5            82.0  \n",
       "1      51.0         1.8            50.0  \n",
       "2      33.0         0.8            34.0  \n",
       "3      40.0         0.2        999017.0  \n",
       "4      44.0         1.5           146.0  "
      ]
     },
     "execution_count": 4,
     "metadata": {},
     "output_type": "execute_result"
    }
   ],
   "source": [
    "ob_df4.head()"
   ]
  },
  {
   "cell_type": "code",
   "execution_count": 5,
   "metadata": {},
   "outputs": [],
   "source": [
    "#prepare weather data\n",
    "weather_all = pd.concat([ob_df4,grid_df4]).reset_index()\n",
    "weather_all = clean_weather(weather_all)\n"
   ]
  },
  {
   "cell_type": "code",
   "execution_count": 6,
   "metadata": {},
   "outputs": [],
   "source": [
    "#get_aq_w_dist().nth(1)"
   ]
  },
  {
   "cell_type": "code",
   "execution_count": 7,
   "metadata": {},
   "outputs": [
    {
     "name": "stdout",
     "output_type": "stream",
     "text": [
      "Level 1 #null before 353\n",
      "After:  104\n",
      "Level 2 #null before 104\n",
      "After:  66\n",
      "Level 3 #null before 66\n",
      "After:  48\n",
      "Level 4 #null before 48\n",
      "After:  30\n"
     ]
    }
   ],
   "source": [
    "#add time columns to airQuality data\n",
    "#levels is the number of nearest weather station to search\n",
    "#time_column is the name of the time column\n",
    "aq_all = fill_weather_gap(aq_df=aq_df4,weather_df=weather_all,levels = 5,time_column = 'time')\n",
    "\n",
    "\n",
    "aq_all['timestamp'] = pd.to_datetime(aq_all['time'])\n",
    "aq_all['year'] = aq_all['timestamp'].dt.year\n",
    "aq_all['month'] = aq_all['timestamp'].dt.month\n",
    "aq_all['day'] = aq_all['timestamp'].dt.day\n",
    "aq_all['hour'] = aq_all['timestamp'].dt.hour\n",
    "\n"
   ]
  },
  {
   "cell_type": "code",
   "execution_count": 8,
   "metadata": {},
   "outputs": [],
   "source": [
    "#TODO:predict aq loss value\n",
    "aq_all = aq_all.fillna(method='ffill')\n",
    "\n",
    "#add geo info of the air quality stations for nearest weather station searching\n",
    "aq_geo = pd.read_csv('./data/aq_geo.csv')\n",
    "aq_all = aq_all.merge(aq_geo,how='left',on='station_id')"
   ]
  },
  {
   "cell_type": "code",
   "execution_count": 9,
   "metadata": {},
   "outputs": [
    {
     "data": {
      "text/plain": [
       "Index(['id', 'time', 'PM25_Concentration', 'PM10_Concentration',\n",
       "       'NO2_Concentration', 'CO_Concentration', 'O3_Concentration',\n",
       "       'SO2_Concentration', 'dist', 'w_end', 'pressure', 'temperature',\n",
       "       'humidity', 'weather', 'wind_direction', 'wind_speed', 'station_id',\n",
       "       'timestamp', 'year', 'month', 'day', 'hour', 'longitude', 'latitude',\n",
       "       'station_type_id'],\n",
       "      dtype='object')"
      ]
     },
     "execution_count": 9,
     "metadata": {},
     "output_type": "execute_result"
    }
   ],
   "source": [
    "aq_all.columns"
   ]
  },
  {
   "cell_type": "markdown",
   "metadata": {},
   "source": [
    "### Prepare data for feature extraction\n",
    "先把原始的三周的数据拿出来，以便于之后的算statistical features"
   ]
  },
  {
   "cell_type": "code",
   "execution_count": 10,
   "metadata": {
    "scrolled": true
   },
   "outputs": [],
   "source": [
    "time_columns = ['year','month','day','hour']\n",
    "attrs_to_predict = ['PM25_Concentration', 'PM10_Concentration', 'O3_Concentration']\n",
    "weather_attrs  = ['pressure','temperature','humidity','wind_direction','wind_speed']\n",
    "timestamp_column_name = 'time'\n",
    "\n",
    "#result will be numpy array in the format (station_id,station_type_id,time_columns,historical_data-> 24*7*3 * 3,to_be_predicted_values)\n",
    "data_201804 = get_raw_train_test_data(aq_all,attrs_to_predict,time_columns,timestamp_column_name,weather_attrs,24*7*3)\n",
    "\n",
    "data_201804 = np.array(data_201804)"
   ]
  },
  {
   "cell_type": "code",
   "execution_count": 11,
   "metadata": {},
   "outputs": [
    {
     "data": {
      "text/plain": [
       "Index(['id', 'time', 'PM25_Concentration', 'PM10_Concentration',\n",
       "       'NO2_Concentration', 'CO_Concentration', 'O3_Concentration',\n",
       "       'SO2_Concentration', 'dist', 'w_end', 'pressure', 'temperature',\n",
       "       'humidity', 'weather', 'wind_direction', 'wind_speed', 'station_id',\n",
       "       'timestamp', 'year', 'month', 'day', 'hour', 'longitude', 'latitude',\n",
       "       'station_type_id'],\n",
       "      dtype='object')"
      ]
     },
     "execution_count": 11,
     "metadata": {},
     "output_type": "execute_result"
    }
   ],
   "source": [
    "aq_all.columns"
   ]
  },
  {
   "cell_type": "code",
   "execution_count": 12,
   "metadata": {},
   "outputs": [
    {
     "data": {
      "text/plain": [
       "(3990, 2142)"
      ]
     },
     "execution_count": 12,
     "metadata": {},
     "output_type": "execute_result"
    }
   ],
   "source": [
    "data_201804.shape"
   ]
  },
  {
   "cell_type": "markdown",
   "metadata": {},
   "source": [
    "### Extract features from the raw historical data\n",
    "根据前面准备的前三周数据取statistical features，还有取holiday feature\n",
    "只取最后48小时作为测试集"
   ]
  },
  {
   "cell_type": "code",
   "execution_count": 13,
   "metadata": {},
   "outputs": [
    {
     "data": {
      "text/plain": [
       "((3955, 2142), (35, 2142), (3990, 2142))"
      ]
     },
     "execution_count": 13,
     "metadata": {},
     "output_type": "execute_result"
    }
   ],
   "source": [
    "#1.split the data in april into training and validation part\n",
    "#Use the data on 4.29 as validation and others for training\n",
    "data_201804_train = data_201804[np.where((data_201804[:,4] != '29') | (data_201804[:,5] != '21'))]\n",
    "data_201804_val = data_201804[np.where((data_201804[:,4] == '29') & (data_201804[:,5] == '21'))]\n",
    "data_201804_train.shape,data_201804_val.shape,data_201804.shape"
   ]
  },
  {
   "cell_type": "code",
   "execution_count": 16,
   "metadata": {},
   "outputs": [],
   "source": [
    "#存起来备用\n",
    "np.save('mnt/disks/bdt/201804_train_x.npy',train_x)\n",
    "np.save('mnt/disks/bdt/201805_train_y.npy',train_y)\n",
    "np.save('mnt/disks/bdt/201804_val_x.npy',val_x)\n",
    "np.save('mnt/disks/bdt/201805_val_y.npy',val_y)"
   ]
  },
  {
   "cell_type": "code",
   "execution_count": 4,
   "metadata": {},
   "outputs": [],
   "source": [
    "ob_df_test= pd.read_csv('data/observedWeather_20180501-20180502.csv')\n",
    "grid_df_test = pd.read_csv('data/gridWeather_20180501-20180502.csv')"
   ]
  },
  {
   "cell_type": "markdown",
   "metadata": {},
   "source": [
    "这里依次训练三个模型\n",
    "参数并非search出来的结果，只是参照别人的调参经验试用的一些参数\n",
    "不使用sklearn接口"
   ]
  },
  {
   "cell_type": "code",
   "execution_count": 21,
   "metadata": {},
   "outputs": [
    {
     "name": "stdout",
     "output_type": "stream",
     "text": [
      "PM25_Concentration\n"
     ]
    },
    {
     "name": "stderr",
     "output_type": "stream",
     "text": [
      "C:\\Users\\Wangzhc\\Anaconda3\\lib\\site-packages\\numpy\\lib\\function_base.py:4033: RuntimeWarning: Invalid value encountered in median for 2 results\n",
      "  r = func(a, **kwargs)\n"
     ]
    },
    {
     "name": "stdout",
     "output_type": "stream",
     "text": [
      "PM25_Concentration\n",
      "PM2.5\n",
      "PM25_Concentration\n",
      "PM2.5\n",
      "0.33681834989718995\n",
      "8870.143693016142\n",
      "PM10_Concentration\n",
      "PM10_Concentration\n",
      "PM10_Concentration\n",
      "0.4448346183949107\n",
      "1537.6304240497739\n",
      "O3_Concentration\n",
      "O3_Concentration\n",
      "O3_Concentration\n",
      "0.36813020132001373\n",
      "946.1152937715352\n"
     ]
    }
   ],
   "source": [
    "import lightgbm\n",
    "targets = [ 'PM25_Concentration', 'PM10_Concentration', 'O3_Concentration']\n",
    "models ={}\n",
    "for i in targets:\n",
    "    print(i)\n",
    "    X_raw_train,y_raw_train = split_features_labels(data = data_201804_train,attr =i,length = 24*7*3)\n",
    "    X_raw_val,y_raw_val = split_features_labels(data = data_201804_val,attr =i,length = 24*7*3)\n",
    "\n",
    "    X_raw_train = X_raw_train.astype(np.float)\n",
    "    y_raw_train = y_raw_train.astype(np.float)\n",
    "    X_raw_val = X_raw_val.astype(np.float)\n",
    "    y_raw_val = y_raw_val.astype(np.float)\n",
    "    train_201804 = get_train_data_final(X_raw_train,y_raw_train)\n",
    "    train_201804 = np.vstack(train_201804)\n",
    "    train_x = train_201804[:,:-1]\n",
    "    train_y = train_201804[:,-1]\n",
    "\n",
    "    val_201804 = get_train_data_final(X_raw_val,y_raw_val)\n",
    "    val_201804 = np.vstack(val_201804)\n",
    "    val_x = val_201804[:,:-1]\n",
    "    val_y = val_201804[:,-1]\n",
    "    train = lightgbm.Dataset(train_x,train_y)\n",
    "    val = lightgbm.Dataset(val_x,val_y)\n",
    "    params = {  \n",
    "        'boosting_type': 'gbdt',  \n",
    "        'objective': 'mse',  \n",
    "        'metric': {'mse'},  \n",
    "        #'num_leaves':1000,  \n",
    "        'max_depth': 10,  \n",
    "        #'min_data_in_leaf': 450,  \n",
    "        'learning_rate': 0.1,  \n",
    "        'feature_fraction': 0.9,  \n",
    "        'bagging_fraction': 0.95,  \n",
    "        #'bagging_freq': 5,  \n",
    "        #'lambda_l1': 1,    \n",
    "        'lambda_l2': 0.01,  # 越小l2正则程度越高  \n",
    "        #'min_gain_to_split': 0.2,  \n",
    "        'verbose': 0,\n",
    "    }  \n",
    "    models[i] = lightgbm.train(params,train,num_boost_round = 1000)#,valid_sets=[train,val],valid_names = ['train','val']\n",
    "    import evaluation\n",
    "    import sklearn\n",
    "    result = models[i].predict(val_x)\n",
    "    print(evaluation.smape(result,val_y))\n",
    "    print(sklearn.metrics.mean_squared_error(result,val_y))"
   ]
  },
  {
   "cell_type": "code",
   "execution_count": 64,
   "metadata": {},
   "outputs": [
    {
     "name": "stdout",
     "output_type": "stream",
     "text": [
      "0.34190792591120167\n",
      "9311.514047390006\n"
     ]
    }
   ],
   "source": []
  },
  {
   "cell_type": "code",
   "execution_count": 50,
   "metadata": {},
   "outputs": [
    {
     "name": "stdout",
     "output_type": "stream",
     "text": [
      "0.5435896236594118\n"
     ]
    }
   ],
   "source": [
    "print(evaluation.smape(result,val_y))"
   ]
  },
  {
   "cell_type": "code",
   "execution_count": 54,
   "metadata": {},
   "outputs": [
    {
     "data": {
      "text/plain": [
       "array([1.0000000e+00, 0.0000000e+00, 0.0000000e+00, 0.0000000e+00,\n",
       "       2.0180000e+03, 4.0000000e+00, 2.9000000e+01, 2.0000000e+01,\n",
       "       1.0041375e+03, 1.7000000e+01])"
      ]
     },
     "execution_count": 54,
     "metadata": {},
     "output_type": "execute_result"
    }
   ],
   "source": [
    "train_x[-1,35:45]"
   ]
  },
  {
   "cell_type": "code",
   "execution_count": 56,
   "metadata": {},
   "outputs": [
    {
     "data": {
      "text/plain": [
       "array([1.000000e+00, 0.000000e+00, 0.000000e+00, 0.000000e+00,\n",
       "       2.018000e+03, 4.000000e+00, 2.900000e+01, 2.100000e+01,\n",
       "       9.974287e+02, 1.500000e+01])"
      ]
     },
     "execution_count": 56,
     "metadata": {},
     "output_type": "execute_result"
    }
   ],
   "source": [
    "val_x[-1 ,35:45]"
   ]
  },
  {
   "cell_type": "code",
   "execution_count": 22,
   "metadata": {},
   "outputs": [
    {
     "ename": "NameError",
     "evalue": "name 'model' is not defined",
     "output_type": "error",
     "traceback": [
      "\u001b[1;31m---------------------------------------------------------------------------\u001b[0m",
      "\u001b[1;31mNameError\u001b[0m                                 Traceback (most recent call last)",
      "\u001b[1;32m<ipython-input-22-48f601daa5e9>\u001b[0m in \u001b[0;36m<module>\u001b[1;34m()\u001b[0m\n\u001b[0;32m      1\u001b[0m \u001b[0mplt\u001b[0m\u001b[1;33m.\u001b[0m\u001b[0mfigure\u001b[0m\u001b[1;33m(\u001b[0m\u001b[0mfigsize\u001b[0m\u001b[1;33m=\u001b[0m\u001b[1;33m(\u001b[0m\u001b[1;36m400\u001b[0m\u001b[1;33m,\u001b[0m\u001b[1;36m400\u001b[0m\u001b[1;33m)\u001b[0m\u001b[1;33m)\u001b[0m\u001b[1;33m\u001b[0m\u001b[0m\n\u001b[1;32m----> 2\u001b[1;33m \u001b[0mlightgbm\u001b[0m\u001b[1;33m.\u001b[0m\u001b[0mplot_importance\u001b[0m\u001b[1;33m(\u001b[0m\u001b[0mmodel\u001b[0m\u001b[1;33m[\u001b[0m\u001b[1;36m0\u001b[0m\u001b[1;33m]\u001b[0m\u001b[1;33m,\u001b[0m \u001b[0mmax_num_features\u001b[0m\u001b[1;33m=\u001b[0m\u001b[1;36m20\u001b[0m\u001b[1;33m)\u001b[0m\u001b[1;33m\u001b[0m\u001b[0m\n\u001b[0m\u001b[0;32m      3\u001b[0m \u001b[0mplt\u001b[0m\u001b[1;33m.\u001b[0m\u001b[0mshow\u001b[0m\u001b[1;33m(\u001b[0m\u001b[1;33m)\u001b[0m\u001b[1;33m\u001b[0m\u001b[0m\n",
      "\u001b[1;31mNameError\u001b[0m: name 'model' is not defined"
     ]
    },
    {
     "data": {
      "text/plain": [
       "<matplotlib.figure.Figure at 0x253251f00b8>"
      ]
     },
     "metadata": {},
     "output_type": "display_data"
    }
   ],
   "source": [
    "plt.figure(figsize=(400,400))\n",
    "lightgbm.plot_importance(model[0], max_num_features=20)\n",
    "plt.show()"
   ]
  },
  {
   "cell_type": "code",
   "execution_count": 48,
   "metadata": {},
   "outputs": [
    {
     "data": {
      "text/plain": [
       "array([ 0.,  1.,  2.,  3.,  4.,  5.,  6.,  7.,  8.,  9., 10., 11., 12.,\n",
       "       13., 14., 15., 16., 17., 18., 19., 20., 21., 22., 23., 24., 25.,\n",
       "       26., 27., 28., 29., 30., 31., 32., 33., 34., 35., 36., 37., 38.,\n",
       "       39., 40., 41., 42., 43., 44., 45., 46., 47.,  0.,  1.,  2.,  3.,\n",
       "        4.,  5.,  6.,  7.,  8.,  9., 10., 11., 12., 13., 14., 15., 16.,\n",
       "       17., 18., 19., 20., 21., 22., 23., 24., 25., 26., 27., 28., 29.,\n",
       "       30., 31., 32., 33., 34., 35., 36., 37., 38., 39., 40., 41., 42.,\n",
       "       43., 44., 45., 46., 47.,  0.,  1.,  2.,  3.,  4.,  5.,  6.,  7.,\n",
       "        8.,  9., 10., 11., 12., 13., 14., 15., 16., 17., 18., 19., 20.,\n",
       "       21., 22., 23., 24., 25., 26., 27., 28., 29., 30., 31., 32., 33.,\n",
       "       34., 35., 36., 37., 38., 39., 40., 41., 42., 43., 44., 45., 46.,\n",
       "       47.,  0.,  1.,  2.,  3.,  4.,  5.,  6.,  7.,  8.,  9., 10., 11.,\n",
       "       12., 13., 14., 15., 16., 17., 18., 19., 20., 21., 22., 23., 24.,\n",
       "       25., 26., 27., 28., 29., 30., 31., 32., 33., 34., 35., 36., 37.,\n",
       "       38., 39., 40., 41., 42., 43., 44., 45., 46., 47.,  0.,  1.,  2.,\n",
       "        3.,  4.,  5.,  6.,  7.])"
      ]
     },
     "execution_count": 48,
     "metadata": {},
     "output_type": "execute_result"
    }
   ],
   "source": [
    "val_x[0:200,690]"
   ]
  },
  {
   "cell_type": "code",
   "execution_count": null,
   "metadata": {},
   "outputs": [],
   "source": []
  },
  {
   "cell_type": "code",
   "execution_count": 58,
   "metadata": {},
   "outputs": [],
   "source": []
  },
  {
   "cell_type": "code",
   "execution_count": 69,
   "metadata": {},
   "outputs": [
    {
     "data": {
      "image/png": "[encoded data removed]",
      "text/plain": [
       "<matplotlib.figure.Figure at 0x248b62953c8>"
      ]
     },
     "metadata": {},
     "output_type": "display_data"
    }
   ],
   "source": [
    "a = list(result.reshape(-1)[0:96])\n",
    "b = list(val_y.reshape(-1)[0:96])\n",
    "plt.figure(figsize=(10,10))\n",
    "plt.plot(a,'b')\n",
    "plt.plot(b,'r')\n",
    "plt.show()"
   ]
  },
  {
   "cell_type": "code",
   "execution_count": 70,
   "metadata": {},
   "outputs": [
    {
     "data": {
      "image/png": "[encoded data removed]",
      "text/plain": [
       "<matplotlib.figure.Figure at 0x24882230320>"
      ]
     },
     "metadata": {},
     "output_type": "display_data"
    }
   ],
   "source": [
    "plt.figure(figsize=(10,10))\n",
    "plt.plot(val_y,'b')\n",
    "plt.show()"
   ]
  },
  {
   "cell_type": "code",
   "execution_count": null,
   "metadata": {},
   "outputs": [],
   "source": []
  }
 ],
 "metadata": {
  "kernelspec": {
   "display_name": "Python 3",
   "language": "python",
   "name": "python3"
  },
  "language_info": {
   "codemirror_mode": {
    "name": "ipython",
    "version": 3
   },
   "file_extension": ".py",
   "mimetype": "text/x-python",
   "name": "python",
   "nbconvert_exporter": "python",
   "pygments_lexer": "ipython3",
   "version": "3.6.6"
  }
 },
 "nbformat": 4,
 "nbformat_minor": 2
}
