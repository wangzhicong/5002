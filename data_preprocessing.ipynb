{
 "cells": [
  {
   "cell_type": "code",
   "execution_count": 1,
   "metadata": {
    "collapsed": true
   },
   "outputs": [],
   "source": [
    "import pandas as pd\n",
    "import numpy as np\n",
    "from matplotlib import pyplot as plt\n",
    "\n",
    "%matplotlib inline"
   ]
  },
  {
   "cell_type": "code",
   "execution_count": 2,
   "metadata": {
    "collapsed": true
   },
   "outputs": [],
   "source": [
    "aq_df = pd.read_csv('./data/aiqQuality_201804.csv')\n",
    "weather_df = pd.read_csv('./data/observedWeather_201804.csv')\n",
    "gridw_df = pd.read_csv('./data/gridWeather_201804.csv')"
   ]
  },
  {
   "cell_type": "markdown",
   "metadata": {},
   "source": [
    "## Preprocessing and feature engineering"
   ]
  },
  {
   "cell_type": "code",
   "execution_count": 3,
   "metadata": {
    "collapsed": true
   },
   "outputs": [],
   "source": [
    "def fill_small_gap(df,groupKey,attr):\n",
    "    grouped = df.groupby(groupKey)\n",
    "    frames = []\n",
    "    for key,group in grouped:\n",
    "        group = group.sort_values(by='time')\n",
    "        X = group[attr].values\n",
    "        consecutive = 0\n",
    "        for i in range(1,X.shape[0]):\n",
    "            if pd.isnull(X[i]):\n",
    "                consecutive += 1\n",
    "            else:\n",
    "                if consecutive < 4:\n",
    "                    start_idx = i - consecutive - 1\n",
    "                    if start_idx >= 0 and (not pd.isnull(X[start_idx])):\n",
    "                        start = X[start_idx]\n",
    "                        end = X[i]\n",
    "                        for j in range(1,consecutive+1):\n",
    "                            X[i-j] = end * (1-j/(consecutive+1) ) + start*j/(consecutive+1)\n",
    "                            if pd.isnull(X[i-j]):\n",
    "                                print(\"set up fail\")\n",
    "                consecutive = 0 #reset the counter\n",
    "        group[attr] = X\n",
    "        frames.append(group.copy())\n",
    "    return pd.concat(frames)"
   ]
  },
  {
   "cell_type": "code",
   "execution_count": 4,
   "metadata": {},
   "outputs": [
    {
     "name": "stdout",
     "output_type": "stream",
     "text": [
      "<class 'pandas.core.frame.DataFrame'>\n",
      "RangeIndex: 23310 entries, 0 to 23309\n",
      "Data columns (total 9 columns):\n",
      "id                    23310 non-null int64\n",
      "station_id            23310 non-null object\n",
      "time                  23310 non-null object\n",
      "PM25_Concentration    22075 non-null float64\n",
      "PM10_Concentration    18425 non-null float64\n",
      "NO2_Concentration     22262 non-null float64\n",
      "CO_Concentration      22265 non-null float64\n",
      "O3_Concentration      22118 non-null float64\n",
      "SO2_Concentration     22284 non-null float64\n",
      "dtypes: float64(6), int64(1), object(2)\n",
      "memory usage: 1.6+ MB\n",
      "None\n",
      "<class 'pandas.core.frame.DataFrame'>\n",
      "Int64Index: 23310 entries, 4 to 23283\n",
      "Data columns (total 9 columns):\n",
      "id                    23310 non-null int64\n",
      "station_id            23310 non-null object\n",
      "time                  23310 non-null object\n",
      "PM25_Concentration    22277 non-null float64\n",
      "PM10_Concentration    19345 non-null float64\n",
      "NO2_Concentration     22414 non-null float64\n",
      "CO_Concentration      22394 non-null float64\n",
      "O3_Concentration      22407 non-null float64\n",
      "SO2_Concentration     22418 non-null float64\n",
      "dtypes: float64(6), int64(1), object(2)\n",
      "memory usage: 1.8+ MB\n",
      "None\n"
     ]
    }
   ],
   "source": [
    "#this should be run for only once / or the long gap will also be filled\n",
    "print(aq_df.info())\n",
    "aq_df = fill_small_gap(aq_df,'station_id','PM25_Concentration')\n",
    "aq_df = fill_small_gap(aq_df,'station_id','PM10_Concentration')\n",
    "aq_df = fill_small_gap(aq_df,'station_id','NO2_Concentration')\n",
    "aq_df = fill_small_gap(aq_df,'station_id','CO_Concentration')\n",
    "aq_df = fill_small_gap(aq_df,'station_id','O3_Concentration')\n",
    "aq_df = fill_small_gap(aq_df,'station_id','SO2_Concentration')\n",
    "print(aq_df.info())"
   ]
  },
  {
   "cell_type": "markdown",
   "metadata": {},
   "source": [
    "### Clean the abnormal weather data"
   ]
  },
  {
   "cell_type": "code",
   "execution_count": 5,
   "metadata": {
    "collapsed": true
   },
   "outputs": [],
   "source": [
    "weather_df = weather_df.loc[weather_df.temperature < 100]"
   ]
  },
  {
   "cell_type": "markdown",
   "metadata": {},
   "source": [
    "### Examinate the geo info"
   ]
  },
  {
   "cell_type": "code",
   "execution_count": 6,
   "metadata": {
    "collapsed": true
   },
   "outputs": [],
   "source": [
    "import geopy.distance\n",
    "\n",
    "def get_aq_w_dist():\n",
    "    aq_geo = pd.read_csv('./data/aq_geo.csv')[['station_id','latitude','longitude']].values\n",
    "    obs_geo = pd.read_csv('observeWeather_geo.csv')[['station_id','latitude','longitude']].values\n",
    "    grid_geo = pd.read_csv('./data/Beijing_grid_weather_station.csv',names=['station_id','latitude','longitude'])[['station_id','latitude','longitude']].values\n",
    "    \n",
    "    aq_start = []\n",
    "    w_end = []\n",
    "    dist_list = []\n",
    "    for i in range(aq_geo.shape[0]):\n",
    "        for j in range(obs_geo.shape[0]):\n",
    "            aq_start.append(aq_geo[i][0])\n",
    "            w_end.append(obs_geo[j][0])\n",
    "            dist_list.append(geopy.distance.vincenty((aq_geo[i][1],aq_geo[i][2]),(obs_geo[j][1],obs_geo[j][2])).km)\n",
    "\n",
    "        for k in range(grid_geo.shape[0]):\n",
    "            aq_start.append(aq_geo[i][0])\n",
    "            w_end.append(grid_geo[k][0])\n",
    "            dist_list.append(geopy.distance.vincenty((aq_geo[i][1],aq_geo[i][2]),(grid_geo[k][1],grid_geo[k][2])).km)\n",
    "    aq_w_dist_df = pd.DataFrame({'aq_start':aq_start,'w_end':w_end,'dist':dist_list})\n",
    "    aq_w_dist_df = aq_w_dist_df.sort_values(by=['aq_start','dist'])\n",
    "    \n",
    "    #get top 3 nearest station for each aq_station\n",
    "    top3_dict = {}\n",
    "    aq_w_grouped = aq_w_dist_df.groupby('aq_start')\n",
    "    for key,group in aq_w_grouped:\n",
    "        top3_dict[key] = group['w_end'].values[:3]\n",
    "    aq_group = aq_w_dist_df.groupby('aq_start',as_index=False)\n",
    "    return aq_group"
   ]
  },
  {
   "cell_type": "code",
   "execution_count": 7,
   "metadata": {
    "collapsed": true
   },
   "outputs": [],
   "source": [
    "aq_group = get_aq_w_dist()"
   ]
  },
  {
   "cell_type": "markdown",
   "metadata": {},
   "source": [
    "### Add the nearest weather info to the aq dataframe\n",
    "Steps: 1.use the nearest weather from geo data 2.use mean of 26 near stations 3.bfill or ffill the remainning"
   ]
  },
  {
   "cell_type": "code",
   "execution_count": 8,
   "metadata": {
    "collapsed": true
   },
   "outputs": [],
   "source": [
    "weather_all = pd.concat([weather_df,gridw_df])"
   ]
  },
  {
   "cell_type": "code",
   "execution_count": 9,
   "metadata": {
    "collapsed": true
   },
   "outputs": [],
   "source": [
    "def add_nearest_weather(aq_df,weather_all,aq_w_dist_group,level):\n",
    "    '''\n",
    "        This function find the nearesr weather station for the air quality data\n",
    "    '''\n",
    "    if level == 0:\n",
    "        new_df1 = pd.merge(aq_df, aq_group.nth(0),  how='left', left_on=['station_id'], right_on = ['aq_start'])\n",
    "        aq_all = pd.merge(new_df1, weather_all,  how='left', left_on=['w_end','time'], right_on = ['station_id','time'])\n",
    "        return aq_all\n",
    "    else:\n",
    "        aq_na_df = aq_df[aq_df[['humidity','pressure','temperature','weather','wind_direction','wind_speed']].isnull().any(axis=1)]\n",
    "        aq_not_na_df = aq_df[aq_df[['humidity','pressure','temperature','weather','wind_direction','wind_speed']].notnull().any(axis=1)]\n",
    "        aq_na_df = aq_na_df.drop(['aq_start','dist', 'w_end','humidity', 'id_y', 'pressure', 'station_id_y', 'temperature','weather', 'wind_direction', 'wind_speed'],axis=1)\n",
    "        old_columns = aq_na_df.columns\n",
    "        new_columns = [x[:-2] if x.endswith('_x') else x for x in old_columns]\n",
    "\n",
    "        aq_na_df.columns = new_columns \n",
    "        \n",
    "        new_df2 = pd.merge(aq_na_df,  aq_group.nth(level),  how='left', left_on=['station_id'], right_on = ['aq_start'])\n",
    "        aq_na_df_new = pd.merge(new_df2, weather_all,  how='left', left_on=['w_end','time'], right_on = ['station_id','time'])\n",
    "        return pd.concat([aq_not_na_df,aq_na_df_new])"
   ]
  },
  {
   "cell_type": "code",
   "execution_count": 10,
   "metadata": {},
   "outputs": [
    {
     "name": "stdout",
     "output_type": "stream",
     "text": [
      "Level 1 #null before 347\n",
      "After:  102\n",
      "Level 2 #null before 102\n",
      "After:  66\n",
      "Level 3 #null before 66\n",
      "After:  48\n",
      "Level 4 #null before 48\n",
      "After:  30\n"
     ]
    }
   ],
   "source": [
    "#use top 5 nearest weather data usually within 10km\n",
    "weather_all = pd.concat([weather_df,gridw_df])\n",
    "aq_all_df = add_nearest_weather(aq_df,weather_all,aq_group,0)\n",
    "for i in range(1,5):\n",
    "    print(\"Level \"+str(i)+\" #null before\",aq_all_df[['humidity','pressure','temperature','weather','wind_direction','wind_speed']].isnull().any(axis=1).sum())\n",
    "    aq_all_df = add_nearest_weather(aq_all_df,weather_all,aq_group,i)\n",
    "    print(\"After: \",aq_all_df[['humidity','pressure','temperature','weather','wind_direction','wind_speed']].isnull().any(axis=1).sum())"
   ]
  },
  {
   "cell_type": "code",
   "execution_count": 11,
   "metadata": {
    "collapsed": true
   },
   "outputs": [],
   "source": [
    "def add_nearby_weather_mean(aq_df,weather_all,aq_w_dist_group,level):\n",
    "    '''\n",
    "        Use the mean of weather station that not close enough to fill_na_values if there is not close weather data found\n",
    "    '''\n",
    "    aq_na_df = aq_df[aq_df[['humidity','pressure','temperature','weather','wind_direction','wind_speed']].isnull().any(axis=1)]\n",
    "    aq_not_na_df = aq_df[aq_df[['humidity','pressure','temperature','weather','wind_direction','wind_speed']].notnull().any(axis=1)]\n",
    "    aq_na_df = aq_na_df.drop(['aq_start','dist', 'w_end','humidity', 'id_y', 'pressure', 'station_id_y', 'temperature','weather', 'wind_direction', 'wind_speed'],axis=1)\n",
    "    old_columns = aq_na_df.columns\n",
    "    new_columns = [x[:-2] if x.endswith('_x') else x for x in old_columns]\n",
    "    aq_na_df.columns = new_columns\n",
    "    \n",
    "    _aq_group  = aq_na_df.groupby(['station_id','time'])\n",
    "    frames = []\n",
    "    not_found = []\n",
    "    for key,group in _aq_group:\n",
    "        _station_id = group.station_id.values[0]\n",
    "        _time = group.time.values[0]\n",
    "        _nearbyStationGroup = aq_w_dist_group.head(level)\n",
    "        _nearbyStations = _nearbyStationGroup.loc[_nearbyStationGroup.aq_start == _station_id]\n",
    "        dist_mean = _nearbyStations.dist.mean()\n",
    "        weather_around_df = weather_all.loc[(weather_all.time == _time) & (weather_all.station_id.isin(_nearbyStations.w_end.values))].dropna()\n",
    "        if weather_around_df.shape[0] > 0:\n",
    "            weather_around = weather_around_df.mean().to_dict()\n",
    "            weather_around['aq_start'] = _station_id\n",
    "            weather_around['dist'] = dist_mean\n",
    "            weather_around['w_end'] = 'top'+str(level)+'_mean'\n",
    "            weather_around['time'] = _time\n",
    "            mean_df = pd.DataFrame(weather_around,index=[0])\n",
    "        \n",
    "            group_new = pd.merge(group, mean_df,  how='left', left_on=['station_id','time'], right_on = ['aq_start','time'])\n",
    "            frames.append(group_new)\n",
    "        else:\n",
    "            old_columns = group.columns\n",
    "            new_columns = [x+'_x' if x == 'station_id'else x for x in old_columns]\n",
    "            group.columns = new_columns\n",
    "            not_found.append(group)\n",
    "    result_df = pd.concat([aq_not_na_df]+frames+not_found)\n",
    "    result_df = result_df.drop(['station_id'],axis=1)\n",
    "    return result_df\n",
    "        "
   ]
  },
  {
   "cell_type": "code",
   "execution_count": 12,
   "metadata": {},
   "outputs": [
    {
     "name": "stdout",
     "output_type": "stream",
     "text": [
      "Index(['id_x', 'station_id_x', 'time', 'PM25_Concentration',\n",
      "       'PM10_Concentration', 'NO2_Concentration', 'CO_Concentration',\n",
      "       'O3_Concentration', 'SO2_Concentration', 'aq_start', 'dist', 'w_end',\n",
      "       'humidity', 'id_y', 'pressure', 'station_id_y', 'temperature',\n",
      "       'weather', 'wind_direction', 'wind_speed'],\n",
      "      dtype='object')\n",
      "Index(['CO_Concentration', 'NO2_Concentration', 'O3_Concentration',\n",
      "       'PM10_Concentration', 'PM25_Concentration', 'SO2_Concentration',\n",
      "       'aq_start', 'dist', 'humidity', 'id_x', 'id_y', 'pressure',\n",
      "       'station_id_x', 'station_id_y', 'temperature', 'time', 'w_end',\n",
      "       'weather', 'wind_direction', 'wind_speed'],\n",
      "      dtype='object')\n"
     ]
    }
   ],
   "source": [
    "#use mean of nearby 26 weather data to fill the gap\n",
    "print(aq_all_df.columns)\n",
    "aq_all_df = add_nearby_weather_mean(aq_all_df,weather_all,aq_group,26)\n",
    "print(aq_all_df.columns)"
   ]
  },
  {
   "cell_type": "code",
   "execution_count": 13,
   "metadata": {},
   "outputs": [
    {
     "data": {
      "text/plain": [
       "<matplotlib.axes._subplots.AxesSubplot at 0x7f86eee2ef60>"
      ]
     },
     "execution_count": 13,
     "metadata": {},
     "output_type": "execute_result"
    },
    {
     "data": {
      "image/png": "[encoded data removed]",
      "text/plain": [
       "<matplotlib.figure.Figure at 0x7f86eeb15eb8>"
      ]
     },
     "metadata": {},
     "output_type": "display_data"
    }
   ],
   "source": [
    "# check the distance used to see whether it is too far away\n",
    "aq_all_df.dist.plot.hist()"
   ]
  },
  {
   "cell_type": "markdown",
   "metadata": {
    "collapsed": true
   },
   "source": [
    "## ToDo: using weather and historical data to predict the missing value"
   ]
  },
  {
   "cell_type": "markdown",
   "metadata": {},
   "source": [
    "### 1.feature enginnering \n",
    "* one hot the station id\n",
    "* one hot the info for the station(urban/....)\n",
    "* statistic feature of the sliding window"
   ]
  },
  {
   "cell_type": "code",
   "execution_count": 2,
   "metadata": {},
   "outputs": [],
   "source": [
    "#aq_all_df = pd.read_csv('tmp_aq_all.csv')"
   ]
  },
  {
   "cell_type": "code",
   "execution_count": 3,
   "metadata": {
    "collapsed": true
   },
   "outputs": [],
   "source": [
    "def one_hot_station(df_raw,station_info):\n",
    "    '''\n",
    "        One hot the station info\n",
    "    '''\n",
    "    df = pd.merge(df_raw, station_info,  how='left', left_on=['station_id_x'], right_on = ['station_name'])\n",
    "    df['station_id_int'] = df['station_id_int'].apply(int).apply(str)\n",
    "    df['station_type_id'] = df['station_type_id'].apply(int).apply(str)\n",
    "    one_hot_all = pd.get_dummies(df[['station_id_int','station_type_id']],prefix=['station','stationType'])\n",
    "    return one_hot_all\n",
    "\n",
    "def get_rolling_static(df,target_attr,group_key,win_size):\n",
    "    grouped = df.groupby(group_key)\n",
    "    frames = []\n",
    "    for key,group in grouped:\n",
    "        rolling_obj = group[target_attr].rolling(win_size)\n",
    "        prefix = target_attr+\"win_\"+str(win_size)\n",
    "        group[prefix+'_mean'] = rolling_obj.mean()\n",
    "        group[prefix+'_median'] = rolling_obj.median()\n",
    "        group[prefix+'_sum'] = rolling_obj.sum()\n",
    "        group[prefix+'_min'] = rolling_obj.min()\n",
    "        group[prefix+'_max'] = rolling_obj.max()\n",
    "        group[prefix+'_std'] = rolling_obj.var()\n",
    "        statistic_columns1 = ['mean','median','sum','min','max','std']\n",
    "        statistic_columns = [prefix+'_'+x for x in statistic_columns1]\n",
    "        #have to shift the values or the features will contain the information about the label\n",
    "        group[statistic_columns] = group[statistic_columns].shift(1)\n",
    "        frames.append(group)\n",
    "    return pd.concat(frames),statistic_columns"
   ]
  },
  {
   "cell_type": "code",
   "execution_count": 4,
   "metadata": {
    "collapsed": true
   },
   "outputs": [],
   "source": [
    "station_info = pd.read_csv('./data/aq_geo_new.csv')\n",
    "aq_loss_train = aq_all_df.dropna()\n",
    "one_hot_stations = one_hot_station(aq_loss_train,station_info)"
   ]
  },
  {
   "cell_type": "code",
   "execution_count": 5,
   "metadata": {},
   "outputs": [
    {
     "name": "stderr",
     "output_type": "stream",
     "text": [
      "/home/xiaowen/anaconda3/lib/python3.6/site-packages/ipykernel_launcher.py:17: SettingWithCopyWarning: \n",
      "A value is trying to be set on a copy of a slice from a DataFrame.\n",
      "Try using .loc[row_indexer,col_indexer] = value instead\n",
      "\n",
      "See the caveats in the documentation: http://pandas.pydata.org/pandas-docs/stable/indexing.html#indexing-view-versus-copy\n",
      "/home/xiaowen/anaconda3/lib/python3.6/site-packages/ipykernel_launcher.py:18: SettingWithCopyWarning: \n",
      "A value is trying to be set on a copy of a slice from a DataFrame.\n",
      "Try using .loc[row_indexer,col_indexer] = value instead\n",
      "\n",
      "See the caveats in the documentation: http://pandas.pydata.org/pandas-docs/stable/indexing.html#indexing-view-versus-copy\n",
      "/home/xiaowen/anaconda3/lib/python3.6/site-packages/ipykernel_launcher.py:19: SettingWithCopyWarning: \n",
      "A value is trying to be set on a copy of a slice from a DataFrame.\n",
      "Try using .loc[row_indexer,col_indexer] = value instead\n",
      "\n",
      "See the caveats in the documentation: http://pandas.pydata.org/pandas-docs/stable/indexing.html#indexing-view-versus-copy\n",
      "/home/xiaowen/anaconda3/lib/python3.6/site-packages/ipykernel_launcher.py:20: SettingWithCopyWarning: \n",
      "A value is trying to be set on a copy of a slice from a DataFrame.\n",
      "Try using .loc[row_indexer,col_indexer] = value instead\n",
      "\n",
      "See the caveats in the documentation: http://pandas.pydata.org/pandas-docs/stable/indexing.html#indexing-view-versus-copy\n",
      "/home/xiaowen/anaconda3/lib/python3.6/site-packages/ipykernel_launcher.py:21: SettingWithCopyWarning: \n",
      "A value is trying to be set on a copy of a slice from a DataFrame.\n",
      "Try using .loc[row_indexer,col_indexer] = value instead\n",
      "\n",
      "See the caveats in the documentation: http://pandas.pydata.org/pandas-docs/stable/indexing.html#indexing-view-versus-copy\n",
      "/home/xiaowen/anaconda3/lib/python3.6/site-packages/ipykernel_launcher.py:22: SettingWithCopyWarning: \n",
      "A value is trying to be set on a copy of a slice from a DataFrame.\n",
      "Try using .loc[row_indexer,col_indexer] = value instead\n",
      "\n",
      "See the caveats in the documentation: http://pandas.pydata.org/pandas-docs/stable/indexing.html#indexing-view-versus-copy\n",
      "/home/xiaowen/anaconda3/lib/python3.6/site-packages/pandas/core/frame.py:2352: SettingWithCopyWarning: \n",
      "A value is trying to be set on a copy of a slice from a DataFrame.\n",
      "Try using .loc[row_indexer,col_indexer] = value instead\n",
      "\n",
      "See the caveats in the documentation: http://pandas.pydata.org/pandas-docs/stable/indexing.html#indexing-view-versus-copy\n",
      "  self[k1] = value[k2]\n"
     ]
    }
   ],
   "source": [
    "win_size_list = [72,36,24,12,6]\n",
    "stat_cols = []\n",
    "for win_size in win_size_list:\n",
    "    aq_all_df,new_cols = get_rolling_static(aq_loss_train,'PM25_Concentration','station_id_x',win_size)\n",
    "    stat_cols = stat_cols + new_cols"
   ]
  },
  {
   "cell_type": "code",
   "execution_count": 6,
   "metadata": {},
   "outputs": [
    {
     "name": "stdout",
     "output_type": "stream",
     "text": [
      "(15714, 65)\n"
     ]
    }
   ],
   "source": [
    "loss_train_all_df = pd.concat([aq_all_df,one_hot_stations],axis=1)\n",
    "loss_train_all_df = loss_train_all_df.dropna()\n",
    "print(loss_train_all_df.shape)\n",
    "loss_train_all_df.to_csv('tmp_loss_train_all_clean201804.csv')"
   ]
  },
  {
   "cell_type": "code",
   "execution_count": 7,
   "metadata": {},
   "outputs": [
    {
     "data": {
      "text/plain": [
       "Index(['Unnamed: 0', 'CO_Concentration', 'NO2_Concentration',\n",
       "       'O3_Concentration', 'PM10_Concentration', 'PM25_Concentration',\n",
       "       'SO2_Concentration', 'aq_start', 'dist', 'humidity', 'id_x', 'id_y',\n",
       "       'pressure', 'station_id_x', 'station_id_y', 'temperature', 'time',\n",
       "       'w_end', 'weather', 'wind_direction', 'wind_speed',\n",
       "       'PM25_Concentrationwin_6_mean', 'PM25_Concentrationwin_6_median',\n",
       "       'PM25_Concentrationwin_6_sum', 'PM25_Concentrationwin_6_min',\n",
       "       'PM25_Concentrationwin_6_max', 'PM25_Concentrationwin_6_std',\n",
       "       'station_0', 'station_1', 'station_10', 'station_11', 'station_12',\n",
       "       'station_13', 'station_14', 'station_15', 'station_16', 'station_17',\n",
       "       'station_18', 'station_19', 'station_2', 'station_20', 'station_21',\n",
       "       'station_22', 'station_23', 'station_24', 'station_25', 'station_26',\n",
       "       'station_27', 'station_28', 'station_29', 'station_3', 'station_30',\n",
       "       'station_31', 'station_32', 'station_33', 'station_34', 'station_4',\n",
       "       'station_5', 'station_6', 'station_7', 'station_9', 'stationType_0',\n",
       "       'stationType_1', 'stationType_2', 'stationType_3'],\n",
       "      dtype='object')"
      ]
     },
     "execution_count": 7,
     "metadata": {},
     "output_type": "execute_result"
    }
   ],
   "source": [
    "loss_train_all_df.columns"
   ]
  },
  {
   "cell_type": "code",
   "execution_count": 8,
   "metadata": {
    "collapsed": true
   },
   "outputs": [],
   "source": [
    "loss_train_all_df['weather'] = pd.factorize(loss_train_all_df['weather'])[0]\n",
    "\n",
    "attr_need = [\"PM25_Concentration\", \"PM10_Concentration\", \"O3_Concentration\", 'time_year',\n",
    "                     'time_month', 'time_day', 'time_week', 'time_hour']\n",
    "\n",
    "loss_train_all_df['timestamp'] = pd.to_datetime(loss_train_all_df['time'])\n",
    "\n",
    "loss_train_all_df['weekday'] = loss_train_all_df['timestamp'].dt.weekday\n",
    "loss_train_all_df['hours'] = loss_train_all_df['timestamp'].dt.hour\n",
    "loss_train_all_df['month'] = loss_train_all_df['timestamp'].dt.month\n",
    "loss_train_all_df['day'] = loss_train_all_df['timestamp'].dt.day"
   ]
  },
  {
   "cell_type": "code",
   "execution_count": 9,
   "metadata": {},
   "outputs": [],
   "source": [
    "loss_train_attrs = ['CO_Concentration', 'NO2_Concentration','O3_Concentration', 'PM10_Concentration','SO2_Concentration',\\\n",
    "                    'humidity','pressure','temperature','weather','wind_speed','wind_direction'] \\\n",
    "                    + list(one_hot_stations.columns) + new_cols+['month','hours','weekday','day']"
   ]
  },
  {
   "cell_type": "code",
   "execution_count": 10,
   "metadata": {
    "collapsed": true
   },
   "outputs": [],
   "source": [
    "loss_train_all_df.to_csv('tmp_loss_train_all_clean201804.csv')"
   ]
  },
  {
   "cell_type": "markdown",
   "metadata": {},
   "source": [
    "### 2.parameter searching(using April Data only to search)"
   ]
  },
  {
   "cell_type": "code",
   "execution_count": 25,
   "metadata": {},
   "outputs": [
    {
     "name": "stderr",
     "output_type": "stream",
     "text": [
      "/home/xiaowen/anaconda3/lib/python3.6/site-packages/sklearn/model_selection/_search.py:841: DeprecationWarning: The default of the `iid` parameter will change from True to False in version 0.22 and will be removed in 0.24. This will change numeric results when test-set sizes are unequal.\n",
      "  DeprecationWarning)\n"
     ]
    },
    {
     "name": "stdout",
     "output_type": "stream",
     "text": [
      "Best parameters set found on development set:\n",
      "\n",
      "{'learning_rate': 0.01, 'loss': 'exponential', 'n_estimators': 500}\n",
      "\n",
      "Grid scores on development set:\n",
      "\n",
      "0.809 (+/-0.026) for {'learning_rate': 0.01, 'loss': 'linear', 'n_estimators': 100}\n",
      "0.824 (+/-0.025) for {'learning_rate': 0.01, 'loss': 'linear', 'n_estimators': 500}\n",
      "0.808 (+/-0.022) for {'learning_rate': 0.01, 'loss': 'linear', 'n_estimators': 1000}\n",
      "0.769 (+/-0.023) for {'learning_rate': 0.01, 'loss': 'linear', 'n_estimators': 2000}\n",
      "0.801 (+/-0.018) for {'learning_rate': 0.01, 'loss': 'square', 'n_estimators': 100}\n",
      "0.800 (+/-0.032) for {'learning_rate': 0.01, 'loss': 'square', 'n_estimators': 500}\n",
      "0.772 (+/-0.041) for {'learning_rate': 0.01, 'loss': 'square', 'n_estimators': 1000}\n",
      "0.744 (+/-0.066) for {'learning_rate': 0.01, 'loss': 'square', 'n_estimators': 2000}\n",
      "0.809 (+/-0.022) for {'learning_rate': 0.01, 'loss': 'exponential', 'n_estimators': 100}\n",
      "0.829 (+/-0.024) for {'learning_rate': 0.01, 'loss': 'exponential', 'n_estimators': 500}\n",
      "0.817 (+/-0.025) for {'learning_rate': 0.01, 'loss': 'exponential', 'n_estimators': 1000}\n",
      "0.771 (+/-0.027) for {'learning_rate': 0.01, 'loss': 'exponential', 'n_estimators': 2000}\n",
      "0.809 (+/-0.022) for {'learning_rate': 0.1, 'loss': 'linear', 'n_estimators': 100}\n",
      "0.692 (+/-0.066) for {'learning_rate': 0.1, 'loss': 'linear', 'n_estimators': 500}\n",
      "0.654 (+/-0.121) for {'learning_rate': 0.1, 'loss': 'linear', 'n_estimators': 1000}\n",
      "0.621 (+/-0.143) for {'learning_rate': 0.1, 'loss': 'linear', 'n_estimators': 2000}\n",
      "0.780 (+/-0.036) for {'learning_rate': 0.1, 'loss': 'square', 'n_estimators': 100}\n",
      "0.698 (+/-0.130) for {'learning_rate': 0.1, 'loss': 'square', 'n_estimators': 500}\n",
      "0.680 (+/-0.163) for {'learning_rate': 0.1, 'loss': 'square', 'n_estimators': 1000}\n",
      "0.671 (+/-0.159) for {'learning_rate': 0.1, 'loss': 'square', 'n_estimators': 2000}\n",
      "0.818 (+/-0.021) for {'learning_rate': 0.1, 'loss': 'exponential', 'n_estimators': 100}\n",
      "0.675 (+/-0.053) for {'learning_rate': 0.1, 'loss': 'exponential', 'n_estimators': 500}\n",
      "0.609 (+/-0.106) for {'learning_rate': 0.1, 'loss': 'exponential', 'n_estimators': 1000}\n",
      "0.551 (+/-0.151) for {'learning_rate': 0.1, 'loss': 'exponential', 'n_estimators': 2000}\n",
      "0.640 (+/-0.101) for {'learning_rate': 1, 'loss': 'linear', 'n_estimators': 100}\n",
      "0.557 (+/-0.110) for {'learning_rate': 1, 'loss': 'linear', 'n_estimators': 500}\n",
      "0.559 (+/-0.141) for {'learning_rate': 1, 'loss': 'linear', 'n_estimators': 1000}\n",
      "0.538 (+/-0.137) for {'learning_rate': 1, 'loss': 'linear', 'n_estimators': 2000}\n",
      "0.703 (+/-0.124) for {'learning_rate': 1, 'loss': 'square', 'n_estimators': 100}\n",
      "0.695 (+/-0.140) for {'learning_rate': 1, 'loss': 'square', 'n_estimators': 500}\n",
      "0.704 (+/-0.145) for {'learning_rate': 1, 'loss': 'square', 'n_estimators': 1000}\n",
      "0.704 (+/-0.149) for {'learning_rate': 1, 'loss': 'square', 'n_estimators': 2000}\n",
      "0.598 (+/-0.096) for {'learning_rate': 1, 'loss': 'exponential', 'n_estimators': 100}\n",
      "0.515 (+/-0.122) for {'learning_rate': 1, 'loss': 'exponential', 'n_estimators': 500}\n",
      "0.489 (+/-0.150) for {'learning_rate': 1, 'loss': 'exponential', 'n_estimators': 1000}\n",
      "0.504 (+/-0.127) for {'learning_rate': 1, 'loss': 'exponential', 'n_estimators': 2000}\n",
      "-0.400 (+/-0.932) for {'learning_rate': 10, 'loss': 'linear', 'n_estimators': 100}\n",
      "-5.005 (+/-15.746) for {'learning_rate': 10, 'loss': 'linear', 'n_estimators': 500}\n",
      "-2.451 (+/-6.379) for {'learning_rate': 10, 'loss': 'linear', 'n_estimators': 1000}\n",
      "-2.861 (+/-7.033) for {'learning_rate': 10, 'loss': 'linear', 'n_estimators': 2000}\n",
      "-1.075 (+/-0.085) for {'learning_rate': 10, 'loss': 'square', 'n_estimators': 100}\n",
      "-0.704 (+/-0.820) for {'learning_rate': 10, 'loss': 'square', 'n_estimators': 500}\n",
      "-0.483 (+/-1.207) for {'learning_rate': 10, 'loss': 'square', 'n_estimators': 1000}\n",
      "-0.041 (+/-0.810) for {'learning_rate': 10, 'loss': 'square', 'n_estimators': 2000}\n",
      "-3.409 (+/-1.386) for {'learning_rate': 10, 'loss': 'exponential', 'n_estimators': 100}\n",
      "-3.780 (+/-2.045) for {'learning_rate': 10, 'loss': 'exponential', 'n_estimators': 500}\n",
      "-3.857 (+/-2.667) for {'learning_rate': 10, 'loss': 'exponential', 'n_estimators': 1000}\n",
      "-4.824 (+/-8.357) for {'learning_rate': 10, 'loss': 'exponential', 'n_estimators': 2000}\n"
     ]
    }
   ],
   "source": [
    "from sklearn.ensemble import AdaBoostRegressor\n",
    "from sklearn.model_selection import GridSearchCV\n",
    "from sklearn.model_selection import train_test_split\n",
    "from sklearn.preprocessing import StandardScaler\n",
    "\n",
    "X = loss_train_all_df[loss_train_attrs].values\n",
    "y = loss_train_all_df['PM25_Concentration'].values\n",
    "\n",
    "scaler = StandardScaler()\n",
    "X = scaler.fit_transform(X)\n",
    "\n",
    "X_train, X_test, y_train, y_test = train_test_split(X, y, test_size=0.5, random_state=0)\n",
    "\n",
    "ada_paras = {'n_estimators':[100,500,1000,2000],'learning_rate':[0.01,0.1,1],'loss':['linear','square','exponential']}\n",
    "ada_model = AdaBoostRegressor()\n",
    "grid_model = GridSearchCV(ada_model, param_grid=ada_paras,cv=5)\n",
    "grid_model.fit(X_train, y_train)\n",
    "\n",
    "print(\"Best parameters set found on development set:\")\n",
    "print()\n",
    "print(grid_model.best_params_)\n",
    "print()\n",
    "print(\"Grid scores on development set:\")\n",
    "print()\n",
    "means = grid_model.cv_results_['mean_test_score']\n",
    "stds = grid_model.cv_results_['std_test_score']\n",
    "for mean, std, params in zip(means, stds, grid_model.cv_results_['params']):\n",
    "    print(\"%0.3f (+/-%0.03f) for %r\"% (mean, std * 2, params))"
   ]
  },
  {
   "cell_type": "code",
   "execution_count": 27,
   "metadata": {},
   "outputs": [],
   "source": [
    "y_pred = grid_model.predict(X_test)"
   ]
  },
  {
   "cell_type": "markdown",
   "metadata": {},
   "source": [
    "### Roughly test the accuracy"
   ]
  },
  {
   "cell_type": "code",
   "execution_count": 11,
   "metadata": {
    "collapsed": true
   },
   "outputs": [],
   "source": [
    "from sklearn.ensemble import AdaBoostRegressor\n",
    "from sklearn.model_selection import GridSearchCV\n",
    "from sklearn.model_selection import train_test_split\n",
    "from sklearn.preprocessing import StandardScaler\n",
    "\n",
    "X = loss_train_all_df[loss_train_attrs].values\n",
    "y = loss_train_all_df['PM25_Concentration'].values\n",
    "\n",
    "scaler = StandardScaler()\n",
    "X = scaler.fit_transform(X)\n",
    "\n",
    "X_train, X_test, y_train, y_test = train_test_split(X, y, test_size=0.2, random_state=0)\n",
    "best_para = {'learning_rate': 0.01, 'loss': 'exponential', 'n_estimators': 500}\n",
    "ada_model = AdaBoostRegressor(**best_para)\n",
    "ada_model.fit(X_train,y_train)\n",
    "y_pred = ada_model.predict(X_test)"
   ]
  },
  {
   "cell_type": "code",
   "execution_count": 12,
   "metadata": {},
   "outputs": [
    {
     "data": {
      "image/png": "[encoded data removed]",
      "text/plain": [
       "<matplotlib.figure.Figure at 0x7f82e2d791d0>"
      ]
     },
     "metadata": {},
     "output_type": "display_data"
    }
   ],
   "source": [
    "plt.title(\"Q-Q plot of the result\")\n",
    "plt.plot(y_test,y_pred,'o',alpha=0.3)\n",
    "plt.xlabel(\"truth\")\n",
    "plt.ylabel('prediction')\n",
    "#plt.plot(y_test[:30],'o',label='truth',alpha=0.3)\n",
    "plt.plot([0,300],[0,300],'-',alpha=0.5)\n",
    "plt.legend()"
   ]
  },
  {
   "cell_type": "code",
   "execution_count": 13,
   "metadata": {},
   "outputs": [
    {
     "name": "stdout",
     "output_type": "stream",
     "text": [
      "308.0\n",
      "214.517503805\n",
      "384.0\n"
     ]
    }
   ],
   "source": [
    "print(y_test.max())\n",
    "print(y_pred.max())\n",
    "print(y_train.max())"
   ]
  },
  {
   "cell_type": "code",
   "execution_count": null,
   "metadata": {
    "collapsed": true
   },
   "outputs": [],
   "source": [
    "def run_para_search(model,paras,X_train,y_train,X_test,y_test,cv=5):\n",
    "    grid_model = GridSearchCV(model, param_grid=paras,cv=cv)\n",
    "    grid_model.fit(X_train, y_train)\n",
    "\n",
    "    print(\"Best parameters set found on development set:\")\n",
    "    print()\n",
    "    print(grid_model.best_params_)\n",
    "    print()\n",
    "    print(\"Grid scores on development set:\")\n",
    "    print()\n",
    "    means = grid_model.cv_results_['mean_test_score']\n",
    "    stds = grid_model.cv_results_['std_test_score']\n",
    "    for mean, std, params in zip(means, stds, grid_model.cv_results_['params']):\n",
    "        print(\"%0.3f (+/-%0.03f) for %r\"% (mean, std * 2, params))"
   ]
  }
 ],
 "metadata": {
  "kernelspec": {
   "display_name": "Python 3",
   "language": "python",
   "name": "python3"
  },
  "language_info": {
   "codemirror_mode": {
    "name": "ipython",
    "version": 3
   },
   "file_extension": ".py",
   "mimetype": "text/x-python",
   "name": "python",
   "nbconvert_exporter": "python",
   "pygments_lexer": "ipython3",
   "version": "3.6.3"
  }
 },
 "nbformat": 4,
 "nbformat_minor": 2
}
