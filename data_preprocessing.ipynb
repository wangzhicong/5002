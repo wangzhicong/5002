{
 "cells": [
  {
   "cell_type": "code",
   "execution_count": 1,
   "metadata": {
    "collapsed": true
   },
   "outputs": [],
   "source": [
    "import pandas as pd\n",
    "import numpy as np\n",
    "from matplotlib import pyplot as plt\n",
    "\n",
    "%matplotlib inline"
   ]
  },
  {
   "cell_type": "code",
   "execution_count": 2,
   "metadata": {
    "collapsed": true
   },
   "outputs": [],
   "source": [
    "aq_df = pd.read_csv('./data/aiqQuality_201804.csv')\n",
    "weather_df = pd.read_csv('./data/observedWeather_201804.csv')\n",
    "gridw_df = pd.read_csv('./data/gridWeather_201804.csv')"
   ]
  },
  {
   "cell_type": "markdown",
   "metadata": {},
   "source": [
    "## Preprocessing and feature engineering"
   ]
  },
  {
   "cell_type": "code",
   "execution_count": 3,
   "metadata": {
    "collapsed": true
   },
   "outputs": [],
   "source": [
    "def fill_small_gap(df,groupKey,attr):\n",
    "    grouped = df.groupby(groupKey)\n",
    "    frames = []\n",
    "    for key,group in grouped:\n",
    "        group = group.sort_values(by='time')\n",
    "        X = group[attr].values\n",
    "        consecutive = 0\n",
    "        for i in range(1,X.shape[0]):\n",
    "            if pd.isnull(X[i]):\n",
    "                consecutive += 1\n",
    "            else:\n",
    "                if consecutive < 4:\n",
    "                    start_idx = i - consecutive - 1\n",
    "                    if start_idx >= 0 and (not pd.isnull(X[start_idx])):\n",
    "                        start = X[start_idx]\n",
    "                        end = X[i]\n",
    "                        for j in range(1,consecutive+1):\n",
    "                            X[i-j] = end * (1-j/(consecutive+1) ) + start*j/(consecutive+1)\n",
    "                            if pd.isnull(X[i-j]):\n",
    "                                print(\"set up fail\")\n",
    "                consecutive = 0 #reset the counter\n",
    "        group[attr] = X\n",
    "        frames.append(group.copy())\n",
    "    return pd.concat(frames)"
   ]
  },
  {
   "cell_type": "code",
   "execution_count": 4,
   "metadata": {},
   "outputs": [
    {
     "name": "stdout",
     "output_type": "stream",
     "text": [
      "<class 'pandas.core.frame.DataFrame'>\n",
      "RangeIndex: 23310 entries, 0 to 23309\n",
      "Data columns (total 9 columns):\n",
      "id                    23310 non-null int64\n",
      "station_id            23310 non-null object\n",
      "time                  23310 non-null object\n",
      "PM25_Concentration    22075 non-null float64\n",
      "PM10_Concentration    18425 non-null float64\n",
      "NO2_Concentration     22262 non-null float64\n",
      "CO_Concentration      22265 non-null float64\n",
      "O3_Concentration      22118 non-null float64\n",
      "SO2_Concentration     22284 non-null float64\n",
      "dtypes: float64(6), int64(1), object(2)\n",
      "memory usage: 1.6+ MB\n",
      "None\n",
      "<class 'pandas.core.frame.DataFrame'>\n",
      "Int64Index: 23310 entries, 4 to 23283\n",
      "Data columns (total 9 columns):\n",
      "id                    23310 non-null int64\n",
      "station_id            23310 non-null object\n",
      "time                  23310 non-null object\n",
      "PM25_Concentration    22277 non-null float64\n",
      "PM10_Concentration    19345 non-null float64\n",
      "NO2_Concentration     22414 non-null float64\n",
      "CO_Concentration      22394 non-null float64\n",
      "O3_Concentration      22407 non-null float64\n",
      "SO2_Concentration     22418 non-null float64\n",
      "dtypes: float64(6), int64(1), object(2)\n",
      "memory usage: 1.8+ MB\n",
      "None\n"
     ]
    }
   ],
   "source": [
    "#this should be run for only once / or the long gap will also be filled\n",
    "print(aq_df.info())\n",
    "aq_df = fill_small_gap(aq_df,'station_id','PM25_Concentration')\n",
    "aq_df = fill_small_gap(aq_df,'station_id','PM10_Concentration')\n",
    "aq_df = fill_small_gap(aq_df,'station_id','NO2_Concentration')\n",
    "aq_df = fill_small_gap(aq_df,'station_id','CO_Concentration')\n",
    "aq_df = fill_small_gap(aq_df,'station_id','O3_Concentration')\n",
    "aq_df = fill_small_gap(aq_df,'station_id','SO2_Concentration')\n",
    "print(aq_df.info())"
   ]
  },
  {
   "cell_type": "markdown",
   "metadata": {},
   "source": [
    "### Clean the abnormal weather data"
   ]
  },
  {
   "cell_type": "code",
   "execution_count": 5,
   "metadata": {
    "collapsed": true
   },
   "outputs": [],
   "source": [
    "weather_df = weather_df.loc[weather_df.temperature < 100]"
   ]
  },
  {
   "cell_type": "markdown",
   "metadata": {},
   "source": [
    "### Examinate the geo info"
   ]
  },
  {
   "cell_type": "code",
   "execution_count": 6,
   "metadata": {
    "collapsed": true
   },
   "outputs": [],
   "source": [
    "import geopy.distance\n",
    "\n",
    "def get_aq_w_dist():\n",
    "    aq_geo = pd.read_csv('./data/aq_geo.csv')[['station_id','latitude','longitude']].values\n",
    "    obs_geo = pd.read_csv('observeWeather_geo.csv')[['station_id','latitude','longitude']].values\n",
    "    grid_geo = pd.read_csv('./data/Beijing_grid_weather_station.csv',names=['station_id','latitude','longitude'])[['station_id','latitude','longitude']].values\n",
    "    \n",
    "    aq_start = []\n",
    "    w_end = []\n",
    "    dist_list = []\n",
    "    for i in range(aq_geo.shape[0]):\n",
    "        for j in range(obs_geo.shape[0]):\n",
    "            aq_start.append(aq_geo[i][0])\n",
    "            w_end.append(obs_geo[j][0])\n",
    "            dist_list.append(geopy.distance.vincenty((aq_geo[i][1],aq_geo[i][2]),(obs_geo[j][1],obs_geo[j][2])).km)\n",
    "\n",
    "        for k in range(grid_geo.shape[0]):\n",
    "            aq_start.append(aq_geo[i][0])\n",
    "            w_end.append(grid_geo[k][0])\n",
    "            dist_list.append(geopy.distance.vincenty((aq_geo[i][1],aq_geo[i][2]),(grid_geo[k][1],grid_geo[k][2])).km)\n",
    "    aq_w_dist_df = pd.DataFrame({'aq_start':aq_start,'w_end':w_end,'dist':dist_list})\n",
    "    aq_w_dist_df = aq_w_dist_df.sort_values(by=['aq_start','dist'])\n",
    "    \n",
    "    #get top 3 nearest station for each aq_station\n",
    "    top3_dict = {}\n",
    "    aq_w_grouped = aq_w_dist_df.groupby('aq_start')\n",
    "    for key,group in aq_w_grouped:\n",
    "        top3_dict[key] = group['w_end'].values[:3]\n",
    "    aq_group = aq_w_dist_df.groupby('aq_start',as_index=False)\n",
    "    return aq_group"
   ]
  },
  {
   "cell_type": "code",
   "execution_count": 7,
   "metadata": {
    "collapsed": true
   },
   "outputs": [],
   "source": [
    "aq_group = get_aq_w_dist()"
   ]
  },
  {
   "cell_type": "markdown",
   "metadata": {},
   "source": [
    "### Todo (add the nearest weather info to the aq dataframe)"
   ]
  },
  {
   "cell_type": "code",
   "execution_count": 8,
   "metadata": {
    "collapsed": true
   },
   "outputs": [],
   "source": [
    "weather_all = pd.concat([weather_df,gridw_df])"
   ]
  },
  {
   "cell_type": "code",
   "execution_count": 9,
   "metadata": {
    "collapsed": true
   },
   "outputs": [],
   "source": [
    "def add_nearest_weather(aq_df,weather_all,aq_w_dist_group,level):\n",
    "    '''\n",
    "        This function find the nearesr weather station for the air quality data\n",
    "    '''\n",
    "    if level == 0:\n",
    "        new_df1 = pd.merge(aq_df, aq_group.nth(0),  how='left', left_on=['station_id'], right_on = ['aq_start'])\n",
    "        aq_all = pd.merge(new_df1, weather_all,  how='left', left_on=['w_end','time'], right_on = ['station_id','time'])\n",
    "        return aq_all\n",
    "    else:\n",
    "        aq_na_df = aq_df[aq_df[['humidity','pressure','temperature','weather','wind_direction','wind_speed']].isnull().any(axis=1)]\n",
    "        aq_not_na_df = aq_df[aq_df[['humidity','pressure','temperature','weather','wind_direction','wind_speed']].notnull().any(axis=1)]\n",
    "        aq_na_df = aq_na_df.drop(['aq_start','dist', 'w_end','humidity', 'id_y', 'pressure', 'station_id_y', 'temperature','weather', 'wind_direction', 'wind_speed'],axis=1)\n",
    "        old_columns = aq_na_df.columns\n",
    "        new_columns = [x[:-2] if x.endswith('_x') else x for x in old_columns]\n",
    "\n",
    "        aq_na_df.columns = new_columns \n",
    "        \n",
    "        new_df2 = pd.merge(aq_na_df,  aq_group.nth(level),  how='left', left_on=['station_id'], right_on = ['aq_start'])\n",
    "        aq_na_df_new = pd.merge(new_df2, weather_all,  how='left', left_on=['w_end','time'], right_on = ['station_id','time'])\n",
    "        return pd.concat([aq_not_na_df,aq_na_df_new])"
   ]
  },
  {
   "cell_type": "code",
   "execution_count": 10,
   "metadata": {},
   "outputs": [
    {
     "name": "stdout",
     "output_type": "stream",
     "text": [
      "Level 1 #null before 347\n",
      "After:  102\n",
      "Level 2 #null before 102\n",
      "After:  66\n",
      "Level 3 #null before 66\n",
      "After:  48\n",
      "Level 4 #null before 48\n",
      "After:  30\n"
     ]
    }
   ],
   "source": [
    "#use top 5 nearest weather data usually within 10km\n",
    "weather_all = pd.concat([weather_df,gridw_df])\n",
    "aq_all_df = add_nearest_weather(aq_df,weather_all,aq_group,0)\n",
    "for i in range(1,5):\n",
    "    print(\"Level \"+str(i)+\" #null before\",aq_all_df[['humidity','pressure','temperature','weather','wind_direction','wind_speed']].isnull().any(axis=1).sum())\n",
    "    aq_all_df = add_nearest_weather(aq_all_df,weather_all,aq_group,i)\n",
    "    print(\"After: \",aq_all_df[['humidity','pressure','temperature','weather','wind_direction','wind_speed']].isnull().any(axis=1).sum())"
   ]
  },
  {
   "cell_type": "code",
   "execution_count": 11,
   "metadata": {},
   "outputs": [],
   "source": [
    "def add_nearby_weather_mean(aq_df,weather_all,aq_w_dist_group,level):\n",
    "    '''\n",
    "        Use the mean of weather station that not close enough to fill_na_values if there is not close weather data found\n",
    "    '''\n",
    "    aq_na_df = aq_df[aq_df[['humidity','pressure','temperature','weather','wind_direction','wind_speed']].isnull().any(axis=1)]\n",
    "    aq_not_na_df = aq_df[aq_df[['humidity','pressure','temperature','weather','wind_direction','wind_speed']].notnull().any(axis=1)]\n",
    "    aq_na_df = aq_na_df.drop(['aq_start','dist', 'w_end','humidity', 'id_y', 'pressure', 'station_id_y', 'temperature','weather', 'wind_direction', 'wind_speed'],axis=1)\n",
    "    old_columns = aq_na_df.columns\n",
    "    new_columns = [x[:-2] if x.endswith('_x') else x for x in old_columns]\n",
    "    aq_na_df.columns = new_columns\n",
    "    \n",
    "    _aq_group  = aq_na_df.groupby(['station_id','time'])\n",
    "    frames = []\n",
    "    not_found = []\n",
    "    for key,group in _aq_group:\n",
    "        _station_id = group.station_id.values[0]\n",
    "        _time = group.time.values[0]\n",
    "        _nearbyStationGroup = aq_w_dist_group.head(level)\n",
    "        _nearbyStations = _nearbyStationGroup.loc[_nearbyStationGroup.aq_start == _station_id]\n",
    "        dist_mean = _nearbyStations.dist.mean()\n",
    "        weather_around_df = weather_all.loc[(weather_all.time == _time) & (weather_all.station_id.isin(_nearbyStations.w_end.values))].dropna()\n",
    "        if weather_around_df.shape[0] > 0:\n",
    "            weather_around = weather_around_df.mean().to_dict()\n",
    "            weather_around['aq_start'] = _station_id\n",
    "            weather_around['dist'] = dist_mean\n",
    "            weather_around['w_end'] = 'top'+str(level)+'_mean'\n",
    "            weather_around['time'] = _time\n",
    "            mean_df = pd.DataFrame(weather_around,index=[0])\n",
    "        \n",
    "            group_new = pd.merge(group, mean_df,  how='left', left_on=['station_id','time'], right_on = ['aq_start','time'])\n",
    "            frames.append(group_new)\n",
    "        else:\n",
    "            not_found.append(group)\n",
    "    result_df = pd.concat([aq_not_na_df]+frames+not_found)\n",
    "    result_df = result_df.drop(['station_id'],axis=1)\n",
    "    return result_df\n",
    "        "
   ]
  },
  {
   "cell_type": "code",
   "execution_count": 12,
   "metadata": {},
   "outputs": [
    {
     "name": "stdout",
     "output_type": "stream",
     "text": [
      "Index(['id_x', 'station_id_x', 'time', 'PM25_Concentration',\n",
      "       'PM10_Concentration', 'NO2_Concentration', 'CO_Concentration',\n",
      "       'O3_Concentration', 'SO2_Concentration', 'aq_start', 'dist', 'w_end',\n",
      "       'humidity', 'id_y', 'pressure', 'station_id_y', 'temperature',\n",
      "       'weather', 'wind_direction', 'wind_speed'],\n",
      "      dtype='object')\n",
      "Index(['CO_Concentration', 'NO2_Concentration', 'O3_Concentration',\n",
      "       'PM10_Concentration', 'PM25_Concentration', 'SO2_Concentration',\n",
      "       'aq_start', 'dist', 'humidity', 'id_x', 'id_y', 'pressure',\n",
      "       'station_id_x', 'station_id_y', 'temperature', 'time', 'w_end',\n",
      "       'weather', 'wind_direction', 'wind_speed'],\n",
      "      dtype='object')\n"
     ]
    }
   ],
   "source": [
    "#use mean of nearby 26 weather data to fill the gap\n",
    "print(aq_all_df.columns)\n",
    "aq_all_df = add_nearby_weather_mean(aq_all_df,weather_all,aq_group,26)\n",
    "print(aq_all_df.columns)"
   ]
  },
  {
   "cell_type": "code",
   "execution_count": 13,
   "metadata": {},
   "outputs": [
    {
     "data": {
      "text/plain": [
       "<matplotlib.axes._subplots.AxesSubplot at 0x7ff77d648470>"
      ]
     },
     "execution_count": 13,
     "metadata": {},
     "output_type": "execute_result"
    },
    {
     "data": {
      "image/png": "[encoded data removed]",
      "text/plain": [
       "<matplotlib.figure.Figure at 0x7ff77d6545c0>"
      ]
     },
     "metadata": {},
     "output_type": "display_data"
    }
   ],
   "source": [
    "# check the distance used to see whether it is too far away\n",
    "aq_all_df.dist.plot.hist()"
   ]
  },
  {
   "cell_type": "code",
   "execution_count": null,
   "metadata": {
    "collapsed": true
   },
   "outputs": [],
   "source": []
  }
 ],
 "metadata": {
  "kernelspec": {
   "display_name": "Python 3",
   "language": "python",
   "name": "python3"
  },
  "language_info": {
   "codemirror_mode": {
    "name": "ipython",
    "version": 3
   },
   "file_extension": ".py",
   "mimetype": "text/x-python",
   "name": "python",
   "nbconvert_exporter": "python",
   "pygments_lexer": "ipython3",
   "version": "3.6.3"
  }
 },
 "nbformat": 4,
 "nbformat_minor": 2
}
