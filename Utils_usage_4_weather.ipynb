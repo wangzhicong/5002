{
 "cells": [
  {
   "cell_type": "code",
   "execution_count": 1,
   "metadata": {
    "collapsed": true
   },
   "outputs": [],
   "source": [
    "import pandas as pd\n",
    "import numpy as np\n",
    "from matplotlib import pyplot as plt\n",
    "from utils_v2 import *\n",
    "\n",
    "%matplotlib inline"
   ]
  },
  {
   "cell_type": "code",
   "execution_count": 2,
   "metadata": {
    "collapsed": true
   },
   "outputs": [],
   "source": [
    "aq_df4 = pd.read_csv('./data/aiqQuality_201804.csv')\n",
    "grid_df4 = pd.read_csv('./data/gridWeather_201804.csv')\n",
    "ob_df4 = pd.read_csv('./data/observedWeather_201804.csv')"
   ]
  },
  {
   "cell_type": "code",
   "execution_count": 3,
   "metadata": {},
   "outputs": [
    {
     "data": {
      "text/html": [
       "<div>\n",
       "<style>\n",
       "    .dataframe thead tr:only-child th {\n",
       "        text-align: right;\n",
       "    }\n",
       "\n",
       "    .dataframe thead th {\n",
       "        text-align: left;\n",
       "    }\n",
       "\n",
       "    .dataframe tbody tr th {\n",
       "        vertical-align: top;\n",
       "    }\n",
       "</style>\n",
       "<table border=\"1\" class=\"dataframe\">\n",
       "  <thead>\n",
       "    <tr style=\"text-align: right;\">\n",
       "      <th></th>\n",
       "      <th>id</th>\n",
       "      <th>station_id</th>\n",
       "      <th>time</th>\n",
       "      <th>weather</th>\n",
       "      <th>temperature</th>\n",
       "      <th>pressure</th>\n",
       "      <th>humidity</th>\n",
       "      <th>wind_speed</th>\n",
       "      <th>wind_direction</th>\n",
       "    </tr>\n",
       "  </thead>\n",
       "  <tbody>\n",
       "    <tr>\n",
       "      <th>0</th>\n",
       "      <td>2028533</td>\n",
       "      <td>shunyi_meo</td>\n",
       "      <td>2018-04-01 01:00:00</td>\n",
       "      <td>Hail</td>\n",
       "      <td>15.5</td>\n",
       "      <td>1009.2</td>\n",
       "      <td>51.0</td>\n",
       "      <td>0.5</td>\n",
       "      <td>82.0</td>\n",
       "    </tr>\n",
       "    <tr>\n",
       "      <th>1</th>\n",
       "      <td>2028534</td>\n",
       "      <td>hadian_meo</td>\n",
       "      <td>2018-04-01 01:00:00</td>\n",
       "      <td>Hail</td>\n",
       "      <td>15.7</td>\n",
       "      <td>1006.8</td>\n",
       "      <td>51.0</td>\n",
       "      <td>1.8</td>\n",
       "      <td>50.0</td>\n",
       "    </tr>\n",
       "    <tr>\n",
       "      <th>2</th>\n",
       "      <td>2028535</td>\n",
       "      <td>yanqing_meo</td>\n",
       "      <td>2018-04-01 01:00:00</td>\n",
       "      <td>Hail</td>\n",
       "      <td>12.6</td>\n",
       "      <td>955.6</td>\n",
       "      <td>33.0</td>\n",
       "      <td>0.8</td>\n",
       "      <td>34.0</td>\n",
       "    </tr>\n",
       "    <tr>\n",
       "      <th>3</th>\n",
       "      <td>2028536</td>\n",
       "      <td>miyun_meo</td>\n",
       "      <td>2018-04-01 01:00:00</td>\n",
       "      <td>Hail</td>\n",
       "      <td>14.8</td>\n",
       "      <td>1004.0</td>\n",
       "      <td>40.0</td>\n",
       "      <td>0.2</td>\n",
       "      <td>999017.0</td>\n",
       "    </tr>\n",
       "    <tr>\n",
       "      <th>4</th>\n",
       "      <td>2028537</td>\n",
       "      <td>huairou_meo</td>\n",
       "      <td>2018-04-01 01:00:00</td>\n",
       "      <td>Hail</td>\n",
       "      <td>15.3</td>\n",
       "      <td>1003.4</td>\n",
       "      <td>44.0</td>\n",
       "      <td>1.5</td>\n",
       "      <td>146.0</td>\n",
       "    </tr>\n",
       "  </tbody>\n",
       "</table>\n",
       "</div>"
      ],
      "text/plain": [
       "        id   station_id                 time weather  temperature  pressure  \\\n",
       "0  2028533   shunyi_meo  2018-04-01 01:00:00    Hail         15.5    1009.2   \n",
       "1  2028534   hadian_meo  2018-04-01 01:00:00    Hail         15.7    1006.8   \n",
       "2  2028535  yanqing_meo  2018-04-01 01:00:00    Hail         12.6     955.6   \n",
       "3  2028536    miyun_meo  2018-04-01 01:00:00    Hail         14.8    1004.0   \n",
       "4  2028537  huairou_meo  2018-04-01 01:00:00    Hail         15.3    1003.4   \n",
       "\n",
       "   humidity  wind_speed  wind_direction  \n",
       "0      51.0         0.5            82.0  \n",
       "1      51.0         1.8            50.0  \n",
       "2      33.0         0.8            34.0  \n",
       "3      40.0         0.2        999017.0  \n",
       "4      44.0         1.5           146.0  "
      ]
     },
     "execution_count": 3,
     "metadata": {},
     "output_type": "execute_result"
    }
   ],
   "source": [
    "ob_df4.head()"
   ]
  },
  {
   "cell_type": "code",
   "execution_count": 4,
   "metadata": {
    "collapsed": true
   },
   "outputs": [],
   "source": [
    "#prepare weather data\n",
    "weather_all = pd.concat([ob_df4,grid_df4]).reset_index()\n",
    "weather_all = clean_weather(weather_all)\n"
   ]
  },
  {
   "cell_type": "code",
   "execution_count": 5,
   "metadata": {},
   "outputs": [
    {
     "name": "stdout",
     "output_type": "stream",
     "text": [
      "Level 1 #null before 353\n",
      "After:  104\n",
      "Level 2 #null before 104\n",
      "After:  66\n",
      "Level 3 #null before 66\n",
      "After:  48\n",
      "Level 4 #null before 48\n",
      "After:  30\n"
     ]
    }
   ],
   "source": [
    "#add time columns to airQuality data\n",
    "#levels is the number of nearest weather station to search\n",
    "#time_column is the name of the time column\n",
    "aq_all = fill_weather_gap(aq_df=aq_df4,weather_df=weather_all,levels = 5,time_column = 'time')\n",
    "\n",
    "\n",
    "aq_all['timestamp'] = pd.to_datetime(aq_all['time'])\n",
    "aq_all['year'] = aq_all['timestamp'].dt.year\n",
    "aq_all['month'] = aq_all['timestamp'].dt.month\n",
    "aq_all['day'] = aq_all['timestamp'].dt.day\n",
    "aq_all['hour'] = aq_all['timestamp'].dt.hour"
   ]
  },
  {
   "cell_type": "code",
   "execution_count": 6,
   "metadata": {
    "collapsed": true
   },
   "outputs": [],
   "source": [
    "#TODO:predict aq loss value\n",
    "aq_all = aq_all.fillna(method='ffill')\n",
    "\n",
    "#add geo info of the air quality stations for nearest weather station searching\n",
    "aq_geo = pd.read_csv('./data/aq_geo.csv')\n",
    "aq_all = aq_all.merge(aq_geo,how='left',on='station_id')"
   ]
  },
  {
   "cell_type": "code",
   "execution_count": 7,
   "metadata": {},
   "outputs": [
    {
     "data": {
      "text/html": [
       "<div>\n",
       "<style>\n",
       "    .dataframe thead tr:only-child th {\n",
       "        text-align: right;\n",
       "    }\n",
       "\n",
       "    .dataframe thead th {\n",
       "        text-align: left;\n",
       "    }\n",
       "\n",
       "    .dataframe tbody tr th {\n",
       "        vertical-align: top;\n",
       "    }\n",
       "</style>\n",
       "<table border=\"1\" class=\"dataframe\">\n",
       "  <thead>\n",
       "    <tr style=\"text-align: right;\">\n",
       "      <th></th>\n",
       "      <th>id</th>\n",
       "      <th>time</th>\n",
       "      <th>PM25_Concentration</th>\n",
       "      <th>PM10_Concentration</th>\n",
       "      <th>NO2_Concentration</th>\n",
       "      <th>CO_Concentration</th>\n",
       "      <th>O3_Concentration</th>\n",
       "      <th>SO2_Concentration</th>\n",
       "      <th>dist</th>\n",
       "      <th>w_end</th>\n",
       "      <th>...</th>\n",
       "      <th>temperature</th>\n",
       "      <th>station_id</th>\n",
       "      <th>timestamp</th>\n",
       "      <th>year</th>\n",
       "      <th>month</th>\n",
       "      <th>day</th>\n",
       "      <th>hour</th>\n",
       "      <th>longitude</th>\n",
       "      <th>latitude</th>\n",
       "      <th>station_type_id</th>\n",
       "    </tr>\n",
       "  </thead>\n",
       "  <tbody>\n",
       "    <tr>\n",
       "      <th>0</th>\n",
       "      <td>2942426</td>\n",
       "      <td>2018-04-01 02:00:00</td>\n",
       "      <td>259.0</td>\n",
       "      <td>NaN</td>\n",
       "      <td>98.0</td>\n",
       "      <td>3.4</td>\n",
       "      <td>56.0</td>\n",
       "      <td>57.0</td>\n",
       "      <td>3.532817</td>\n",
       "      <td>beijing_grid_303</td>\n",
       "      <td>...</td>\n",
       "      <td>5.0</td>\n",
       "      <td>dongsi_aq</td>\n",
       "      <td>2018-04-01 02:00:00</td>\n",
       "      <td>2018</td>\n",
       "      <td>4</td>\n",
       "      <td>1</td>\n",
       "      <td>2</td>\n",
       "      <td>116.417</td>\n",
       "      <td>39.929</td>\n",
       "      <td>0</td>\n",
       "    </tr>\n",
       "    <tr>\n",
       "      <th>1</th>\n",
       "      <td>2942427</td>\n",
       "      <td>2018-04-01 02:00:00</td>\n",
       "      <td>250.0</td>\n",
       "      <td>NaN</td>\n",
       "      <td>95.0</td>\n",
       "      <td>3.1</td>\n",
       "      <td>64.0</td>\n",
       "      <td>28.0</td>\n",
       "      <td>1.665762</td>\n",
       "      <td>beijing_grid_303</td>\n",
       "      <td>...</td>\n",
       "      <td>5.0</td>\n",
       "      <td>tiantan_aq</td>\n",
       "      <td>2018-04-01 02:00:00</td>\n",
       "      <td>2018</td>\n",
       "      <td>4</td>\n",
       "      <td>1</td>\n",
       "      <td>2</td>\n",
       "      <td>116.407</td>\n",
       "      <td>39.886</td>\n",
       "      <td>0</td>\n",
       "    </tr>\n",
       "    <tr>\n",
       "      <th>2</th>\n",
       "      <td>2942428</td>\n",
       "      <td>2018-04-01 02:00:00</td>\n",
       "      <td>240.0</td>\n",
       "      <td>246.0</td>\n",
       "      <td>107.0</td>\n",
       "      <td>2.2</td>\n",
       "      <td>49.0</td>\n",
       "      <td>30.0</td>\n",
       "      <td>4.635416</td>\n",
       "      <td>beijing_grid_282</td>\n",
       "      <td>...</td>\n",
       "      <td>5.0</td>\n",
       "      <td>guanyuan_aq</td>\n",
       "      <td>2018-04-01 02:00:00</td>\n",
       "      <td>2018</td>\n",
       "      <td>4</td>\n",
       "      <td>1</td>\n",
       "      <td>2</td>\n",
       "      <td>116.339</td>\n",
       "      <td>39.929</td>\n",
       "      <td>0</td>\n",
       "    </tr>\n",
       "    <tr>\n",
       "      <th>3</th>\n",
       "      <td>2942429</td>\n",
       "      <td>2018-04-01 02:00:00</td>\n",
       "      <td>255.0</td>\n",
       "      <td>260.0</td>\n",
       "      <td>87.0</td>\n",
       "      <td>2.5</td>\n",
       "      <td>65.0</td>\n",
       "      <td>35.0</td>\n",
       "      <td>4.777266</td>\n",
       "      <td>beijing_grid_303</td>\n",
       "      <td>...</td>\n",
       "      <td>5.0</td>\n",
       "      <td>wanshouxigong_aq</td>\n",
       "      <td>2018-04-01 02:00:00</td>\n",
       "      <td>2018</td>\n",
       "      <td>4</td>\n",
       "      <td>1</td>\n",
       "      <td>2</td>\n",
       "      <td>116.352</td>\n",
       "      <td>39.878</td>\n",
       "      <td>0</td>\n",
       "    </tr>\n",
       "    <tr>\n",
       "      <th>4</th>\n",
       "      <td>2942430</td>\n",
       "      <td>2018-04-01 02:00:00</td>\n",
       "      <td>266.0</td>\n",
       "      <td>260.0</td>\n",
       "      <td>111.0</td>\n",
       "      <td>3.5</td>\n",
       "      <td>45.0</td>\n",
       "      <td>57.0</td>\n",
       "      <td>2.014976</td>\n",
       "      <td>beijing_grid_304</td>\n",
       "      <td>...</td>\n",
       "      <td>5.0</td>\n",
       "      <td>aotizhongxin_aq</td>\n",
       "      <td>2018-04-01 02:00:00</td>\n",
       "      <td>2018</td>\n",
       "      <td>4</td>\n",
       "      <td>1</td>\n",
       "      <td>2</td>\n",
       "      <td>116.397</td>\n",
       "      <td>39.982</td>\n",
       "      <td>0</td>\n",
       "    </tr>\n",
       "  </tbody>\n",
       "</table>\n",
       "<p>5 rows × 22 columns</p>\n",
       "</div>"
      ],
      "text/plain": [
       "        id                 time  PM25_Concentration  PM10_Concentration  \\\n",
       "0  2942426  2018-04-01 02:00:00               259.0                 NaN   \n",
       "1  2942427  2018-04-01 02:00:00               250.0                 NaN   \n",
       "2  2942428  2018-04-01 02:00:00               240.0               246.0   \n",
       "3  2942429  2018-04-01 02:00:00               255.0               260.0   \n",
       "4  2942430  2018-04-01 02:00:00               266.0               260.0   \n",
       "\n",
       "   NO2_Concentration  CO_Concentration  O3_Concentration  SO2_Concentration  \\\n",
       "0               98.0               3.4              56.0               57.0   \n",
       "1               95.0               3.1              64.0               28.0   \n",
       "2              107.0               2.2              49.0               30.0   \n",
       "3               87.0               2.5              65.0               35.0   \n",
       "4              111.0               3.5              45.0               57.0   \n",
       "\n",
       "       dist             w_end       ...         temperature        station_id  \\\n",
       "0  3.532817  beijing_grid_303       ...                 5.0         dongsi_aq   \n",
       "1  1.665762  beijing_grid_303       ...                 5.0        tiantan_aq   \n",
       "2  4.635416  beijing_grid_282       ...                 5.0       guanyuan_aq   \n",
       "3  4.777266  beijing_grid_303       ...                 5.0  wanshouxigong_aq   \n",
       "4  2.014976  beijing_grid_304       ...                 5.0   aotizhongxin_aq   \n",
       "\n",
       "            timestamp  year month  day  hour  longitude  latitude  \\\n",
       "0 2018-04-01 02:00:00  2018     4    1     2    116.417    39.929   \n",
       "1 2018-04-01 02:00:00  2018     4    1     2    116.407    39.886   \n",
       "2 2018-04-01 02:00:00  2018     4    1     2    116.339    39.929   \n",
       "3 2018-04-01 02:00:00  2018     4    1     2    116.352    39.878   \n",
       "4 2018-04-01 02:00:00  2018     4    1     2    116.397    39.982   \n",
       "\n",
       "   station_type_id  \n",
       "0                0  \n",
       "1                0  \n",
       "2                0  \n",
       "3                0  \n",
       "4                0  \n",
       "\n",
       "[5 rows x 22 columns]"
      ]
     },
     "execution_count": 7,
     "metadata": {},
     "output_type": "execute_result"
    }
   ],
   "source": [
    "aq_all.head()"
   ]
  },
  {
   "cell_type": "markdown",
   "metadata": {},
   "source": [
    "### Prepare data for feature extraction\n",
    "先把原始的三周的数据拿出来，以便于之后的算statistical features"
   ]
  },
  {
   "cell_type": "code",
   "execution_count": 8,
   "metadata": {
    "scrolled": true
   },
   "outputs": [],
   "source": [
    "time_columns = ['year','month','day','hour']\n",
    "attrs_to_predict = ['PM25_Concentration', 'PM10_Concentration', 'O3_Concentration']\n",
    "weather_attrs = ['humidity','pressure','temperature']\n",
    "timestamp_column_name = 'time'\n",
    "\n",
    "#result will be numpy array in the format (station_id,station_type_id,time_columns,historical_data-> 24*7*3 * 3,to_be_predicted_values)\n",
    "data_201804 = get_raw_train_test_data(aq_all,attrs_to_predict,time_columns,timestamp_column_name,weather_attrs,24*7*3)\n",
    "\n",
    "data_201804 = np.array(data_201804)"
   ]
  },
  {
   "cell_type": "code",
   "execution_count": 9,
   "metadata": {},
   "outputs": [
    {
     "data": {
      "text/plain": [
       "array([['aotizhongxin_aq', '0', '2018', '4', '24', '21'],\n",
       "       ['aotizhongxin_aq', '0', '2018', '4', '24', '22'],\n",
       "       ['aotizhongxin_aq', '0', '2018', '4', '24', '23'],\n",
       "       ..., \n",
       "       ['zhiwuyuan_aq', '0', '2018', '4', '29', '12'],\n",
       "       ['zhiwuyuan_aq', '0', '2018', '4', '29', '13'],\n",
       "       ['zhiwuyuan_aq', '0', '2018', '4', '29', '14']],\n",
       "      dtype='<U18')"
      ]
     },
     "execution_count": 9,
     "metadata": {},
     "output_type": "execute_result"
    }
   ],
   "source": [
    "data_201804[:-5,:6]"
   ]
  },
  {
   "cell_type": "markdown",
   "metadata": {},
   "source": [
    "### Extract features from the raw historical data\n",
    "根据前面准备的前三周数据取statistical features，还有取holiday feature"
   ]
  },
  {
   "cell_type": "code",
   "execution_count": 10,
   "metadata": {
    "collapsed": true
   },
   "outputs": [],
   "source": [
    "#1.split the data in april into training and validation part\n",
    "#Use the data on 4.29 as validation and others for training\n",
    "data_201804_train = data_201804[np.where(data_201804[:,4] != '29')]\n",
    "data_201804_val = data_201804[np.where(data_201804[:,4] == '29')]"
   ]
  },
  {
   "cell_type": "code",
   "execution_count": 11,
   "metadata": {},
   "outputs": [
    {
     "data": {
      "text/plain": [
       "(3990, 1950)"
      ]
     },
     "execution_count": 11,
     "metadata": {},
     "output_type": "execute_result"
    }
   ],
   "source": [
    "data_201804.shape"
   ]
  },
  {
   "cell_type": "code",
   "execution_count": 12,
   "metadata": {},
   "outputs": [
    {
     "name": "stderr",
     "output_type": "stream",
     "text": [
      "/home/xiaowen/anaconda3/lib/python3.6/site-packages/numpy/lib/function_base.py:4016: RuntimeWarning: Invalid value encountered in median for 2 results\n",
      "  r = func(a, **kwargs)\n"
     ]
    },
    {
     "name": "stdout",
     "output_type": "stream",
     "text": [
      "PM25_Concentration\n",
      "PM2.5\n",
      "PM25_Concentration\n",
      "PM2.5\n"
     ]
    }
   ],
   "source": [
    "#2.get the features and labels for training and validation set\n",
    "X_raw_train,y_raw_train = split_features_labels(data = data_201804_train,attr = 'PM25_Concentration',length = 24*7*3)\n",
    "X_raw_val,y_raw_val = split_features_labels(data = data_201804_val,attr = 'PM25_Concentration',length = 24*7*3)"
   ]
  },
  {
   "cell_type": "code",
   "execution_count": 13,
   "metadata": {},
   "outputs": [
    {
     "name": "stdout",
     "output_type": "stream",
     "text": [
      "(3325, 690)\n",
      "(3325, 48)\n"
     ]
    }
   ],
   "source": [
    "print(X_raw_train.shape)\n",
    "print(y_raw_train.shape)"
   ]
  },
  {
   "cell_type": "markdown",
   "metadata": {},
   "source": [
    "注意到y_raw有48行，他是对应的48小时我们要predict的数据，不能直接放到model去train，需要onehot要预测的是后几个小时\n",
    "X_raw已经含有前三周的一些特征，包括最后一周的原始数据，三周内每一天的statistical 值[min max mean median var],每一周statistical的值,holiday feature 的值->[是否放假第一天，是否放假前一天，是否放假最后一天，是否上班第一天]"
   ]
  },
  {
   "cell_type": "code",
   "execution_count": 14,
   "metadata": {
    "collapsed": true
   },
   "outputs": [],
   "source": [
    "X_raw_train = X_raw_train.astype(np.float)\n",
    "y_raw_train = y_raw_train.astype(np.float)\n",
    "X_raw_val = X_raw_val.astype(np.float)\n",
    "y_raw_val = y_raw_val.astype(np.float)"
   ]
  },
  {
   "cell_type": "code",
   "execution_count": 15,
   "metadata": {
    "collapsed": true
   },
   "outputs": [],
   "source": [
    "train_201804 = get_train_data_final(X_raw_train,y_raw_train)\n",
    "train_201804 = np.vstack(train_201804)\n",
    "train_x = train_201804[:,:-1]\n",
    "train_y = train_201804[:,-1]\n",
    "\n",
    "val_201804 = get_train_data_final(X_raw_val,y_raw_val)\n",
    "val_201804 = np.vstack(val_201804)\n",
    "val_x = val_201804[:,:-1]\n",
    "val_y = val_201804[:,-1]"
   ]
  },
  {
   "cell_type": "code",
   "execution_count": 16,
   "metadata": {
    "collapsed": true
   },
   "outputs": [],
   "source": [
    "#存起来备用\n",
    "np.save('/mnt/disks/bdt/201804_PM25_train_x.npy',train_x)\n",
    "np.save('/mnt/disks/bdt/201805_PM25_train_y.npy',train_y)\n",
    "np.save('/mnt/disks/bdt/201804_PM25_val_x.npy',val_x)\n",
    "np.save('/mnt/disks/bdt/201805_PM25_val_y.npy',val_y)"
   ]
  },
  {
   "cell_type": "code",
   "execution_count": null,
   "metadata": {
    "collapsed": true
   },
   "outputs": [],
   "source": []
  },
  {
   "cell_type": "code",
   "execution_count": null,
   "metadata": {
    "collapsed": true
   },
   "outputs": [],
   "source": []
  },
  {
   "cell_type": "code",
   "execution_count": null,
   "metadata": {
    "collapsed": true
   },
   "outputs": [],
   "source": []
  }
 ],
 "metadata": {
  "kernelspec": {
   "display_name": "Python 3",
   "language": "python",
   "name": "python3"
  },
  "language_info": {
   "codemirror_mode": {
    "name": "ipython",
    "version": 3
   },
   "file_extension": ".py",
   "mimetype": "text/x-python",
   "name": "python",
   "nbconvert_exporter": "python",
   "pygments_lexer": "ipython3",
   "version": "3.6.3"
  }
 },
 "nbformat": 4,
 "nbformat_minor": 2
}
